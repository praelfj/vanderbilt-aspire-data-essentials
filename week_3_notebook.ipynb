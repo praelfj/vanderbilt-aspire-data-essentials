{
 "cells": [
  {
   "cell_type": "code",
   "execution_count": 3,
   "metadata": {},
   "outputs": [],
   "source": [
    "#import libraries\n",
    "import pandas as pd"
   ]
  },
  {
   "cell_type": "markdown",
   "metadata": {},
   "source": [
    "## import and explore census data to figure out which columns to keep"
   ]
  },
  {
   "cell_type": "code",
   "execution_count": 4,
   "metadata": {},
   "outputs": [],
   "source": [
    "pop_df = pd.read_csv('./data/PEP_2017_PEPAGESEX.csv', skiprows=1)"
   ]
  },
  {
   "cell_type": "markdown",
   "metadata": {},
   "source": [
    "## subset out required columns"
   ]
  },
  {
   "cell_type": "code",
   "execution_count": 5,
   "metadata": {
    "scrolled": true
   },
   "outputs": [
    {
     "name": "stdout",
     "output_type": "stream",
     "text": [
      "Index(['Id', 'Id2', 'Geography', 'April 1, 2010 - Census - Both Sexes; Total',\n",
      "       'April 1, 2010 - Census - Male; Total',\n",
      "       'April 1, 2010 - Census - Female; Total',\n",
      "       'Population Estimate (as of July 1) - 2010 - Both Sexes; Total',\n",
      "       'Population Estimate (as of July 1) - 2010 - Male; Total',\n",
      "       'Population Estimate (as of July 1) - 2010 - Female; Total',\n",
      "       'Population Estimate (as of July 1) - 2011 - Both Sexes; Total',\n",
      "       ...\n",
      "       'Population Estimate (as of July 1) - 2014 - Females; Median age (years)',\n",
      "       'Population Estimate (as of July 1) - 2015 - Both Sexes; Median age (years)',\n",
      "       'Population Estimate (as of July 1) - 2015 - Male; Median age (years)',\n",
      "       'Population Estimate (as of July 1) - 2015 - Female; Median age (years)',\n",
      "       'Population Estimate (as of July 1) - 2016 - Both Sexes; Median age (years)',\n",
      "       'Population Estimate (as of July 1) - 2016 - Male; Median age (years)',\n",
      "       'Population Estimate (as of July 1) - 2016 - Female; Median age (years)',\n",
      "       'Population Estimate (as of July 1) - 2017 - Both Sexes; Median age (years)',\n",
      "       'Population Estimate (as of July 1) - 2017 - Male; Median age (years)',\n",
      "       'Population Estimate (as of July 1) - 2017 - Female; Median age (years)'],\n",
      "      dtype='object', length=894)\n"
     ]
    }
   ],
   "source": [
    "#isolate all the columns from the dataframe\n",
    "pop_cols = pop_df.columns\n",
    "\n",
    "#make a mask to pick out all the 'April estimate' values using regexes\n",
    "april_mask = pop_cols.str.contains('April.*?estimate', case=False)\n",
    "\n",
    "#subset out everything but all the April estimate values\n",
    "noest = pop_cols[~april_mask]\n",
    "print(noest)"
   ]
  },
  {
   "cell_type": "code",
   "execution_count": 6,
   "metadata": {},
   "outputs": [
    {
     "data": {
      "text/plain": [
       "Index(['Population Estimate (as of July 1) - 2010 - Both Sexes; Total - 50 to 54 years',\n",
       "       'Population Estimate (as of July 1) - 2014 - Both Sexes; Total - 50 to 54 years',\n",
       "       'Population Estimate (as of July 1) - 2017 - Both Sexes; Total - 50 to 54 years',\n",
       "       'Population Estimate (as of July 1) - 2010 - Both Sexes; Total - 55 to 59 years',\n",
       "       'Population Estimate (as of July 1) - 2014 - Both Sexes; Total - 55 to 59 years',\n",
       "       'Population Estimate (as of July 1) - 2017 - Both Sexes; Total - 55 to 59 years',\n",
       "       'Population Estimate (as of July 1) - 2010 - Both Sexes; Total - 60 to 64 years',\n",
       "       'Population Estimate (as of July 1) - 2014 - Both Sexes; Total - 60 to 64 years',\n",
       "       'Population Estimate (as of July 1) - 2017 - Both Sexes; Total - 60 to 64 years',\n",
       "       'Population Estimate (as of July 1) - 2010 - Both Sexes; Total - 65 to 69 years',\n",
       "       'Population Estimate (as of July 1) - 2014 - Both Sexes; Total - 65 to 69 years',\n",
       "       'Population Estimate (as of July 1) - 2017 - Both Sexes; Total - 65 to 69 years',\n",
       "       'Population Estimate (as of July 1) - 2010 - Both Sexes; Total - 70 to 74 years',\n",
       "       'Population Estimate (as of July 1) - 2014 - Both Sexes; Total - 70 to 74 years',\n",
       "       'Population Estimate (as of July 1) - 2017 - Both Sexes; Total - 70 to 74 years',\n",
       "       'Population Estimate (as of July 1) - 2010 - Both Sexes; Total - 75 to 79 years',\n",
       "       'Population Estimate (as of July 1) - 2014 - Both Sexes; Total - 75 to 79 years',\n",
       "       'Population Estimate (as of July 1) - 2017 - Both Sexes; Total - 75 to 79 years',\n",
       "       'Population Estimate (as of July 1) - 2010 - Both Sexes; Total - 80 to 84 years',\n",
       "       'Population Estimate (as of July 1) - 2014 - Both Sexes; Total - 80 to 84 years',\n",
       "       'Population Estimate (as of July 1) - 2017 - Both Sexes; Total - 80 to 84 years',\n",
       "       'Population Estimate (as of July 1) - 2010 - Both Sexes; Total - 85 years and over',\n",
       "       'Population Estimate (as of July 1) - 2014 - Both Sexes; Total - 85 years and over',\n",
       "       'Population Estimate (as of July 1) - 2017 - Both Sexes; Total - 85 years and over'],\n",
       "      dtype='object')"
      ]
     },
     "execution_count": 6,
     "metadata": {},
     "output_type": "execute_result"
    }
   ],
   "source": [
    "#pick out all the old people using a regex\n",
    "old_mask = noest.str.contains('July.*?201[047].*?Both.*?[5-9][0-9] to|July.*?201[047].*?Both.*?Total.*?85 years and')\n",
    "\n",
    "#subset out all old people\n",
    "old_people_columns = noest[old_mask]\n",
    "old_people_columns"
   ]
  },
  {
   "cell_type": "code",
   "execution_count": 7,
   "metadata": {},
   "outputs": [],
   "source": [
    "#write a regex that pulls out all of the other stuff we need and subset\n",
    "odd_mask = noest.str.contains('Geography|July.*?201[047].*?Both.*?Total$|July.*?201[047].*?both.*?median', case=False)\n",
    "misc_columns = noest[odd_mask]"
   ]
  },
  {
   "cell_type": "code",
   "execution_count": 8,
   "metadata": {},
   "outputs": [],
   "source": [
    "#convert to lists (so we can combine the series we made) and combine them into one data structure\n",
    "req_cols = list(misc_columns) + list(old_people_columns)"
   ]
  },
  {
   "cell_type": "code",
   "execution_count": 10,
   "metadata": {},
   "outputs": [
    {
     "data": {
      "text/plain": [
       "(95, 31)"
      ]
     },
     "execution_count": 10,
     "metadata": {},
     "output_type": "execute_result"
    }
   ],
   "source": [
    "#subset df by the data structure we created\n",
    "subset_pop_df = pop_df.loc[:,req_cols]\n",
    "subset_pop_df.shape"
   ]
  },
  {
   "cell_type": "markdown",
   "metadata": {},
   "source": [
    "## rename columns"
   ]
  },
  {
   "cell_type": "code",
   "execution_count": 12,
   "metadata": {},
   "outputs": [
    {
     "data": {
      "text/html": [
       "<div>\n",
       "<style scoped>\n",
       "    .dataframe tbody tr th:only-of-type {\n",
       "        vertical-align: middle;\n",
       "    }\n",
       "\n",
       "    .dataframe tbody tr th {\n",
       "        vertical-align: top;\n",
       "    }\n",
       "\n",
       "    .dataframe thead th {\n",
       "        text-align: right;\n",
       "    }\n",
       "</style>\n",
       "<table border=\"1\" class=\"dataframe\">\n",
       "  <thead>\n",
       "    <tr style=\"text-align: right;\">\n",
       "      <th></th>\n",
       "      <th>county</th>\n",
       "      <th>pop2010all</th>\n",
       "      <th>pop2014all</th>\n",
       "      <th>pop2017all</th>\n",
       "      <th>median_age_2010</th>\n",
       "      <th>median_age_2014</th>\n",
       "      <th>median_age_2017</th>\n",
       "      <th>pop2010_50to54</th>\n",
       "      <th>pop2014_50to54</th>\n",
       "      <th>pop2017_50to54</th>\n",
       "      <th>...</th>\n",
       "      <th>pop2017_70to74</th>\n",
       "      <th>pop2010_75to79</th>\n",
       "      <th>pop2014_75to79</th>\n",
       "      <th>pop2017_75to79</th>\n",
       "      <th>pop2010_80to84</th>\n",
       "      <th>pop2014_80to84</th>\n",
       "      <th>pop2017_80to84</th>\n",
       "      <th>pop2010_85over</th>\n",
       "      <th>pop2014_85over</th>\n",
       "      <th>pop2017_85over</th>\n",
       "    </tr>\n",
       "  </thead>\n",
       "  <tbody>\n",
       "    <tr>\n",
       "      <th>0</th>\n",
       "      <td>Anderson County, Tennessee</td>\n",
       "      <td>75112</td>\n",
       "      <td>75131</td>\n",
       "      <td>76257</td>\n",
       "      <td>42.6</td>\n",
       "      <td>43.3</td>\n",
       "      <td>43.2</td>\n",
       "      <td>5850</td>\n",
       "      <td>5690</td>\n",
       "      <td>5296</td>\n",
       "      <td>...</td>\n",
       "      <td>3765</td>\n",
       "      <td>2276</td>\n",
       "      <td>2327</td>\n",
       "      <td>2501</td>\n",
       "      <td>1969</td>\n",
       "      <td>1779</td>\n",
       "      <td>1785</td>\n",
       "      <td>2135</td>\n",
       "      <td>2211</td>\n",
       "      <td>2173</td>\n",
       "    </tr>\n",
       "    <tr>\n",
       "      <th>1</th>\n",
       "      <td>Bedford County, Tennessee</td>\n",
       "      <td>45086</td>\n",
       "      <td>46259</td>\n",
       "      <td>48117</td>\n",
       "      <td>36.5</td>\n",
       "      <td>37.2</td>\n",
       "      <td>37.5</td>\n",
       "      <td>3043</td>\n",
       "      <td>3207</td>\n",
       "      <td>3239</td>\n",
       "      <td>...</td>\n",
       "      <td>1988</td>\n",
       "      <td>992</td>\n",
       "      <td>1156</td>\n",
       "      <td>1321</td>\n",
       "      <td>756</td>\n",
       "      <td>729</td>\n",
       "      <td>811</td>\n",
       "      <td>647</td>\n",
       "      <td>679</td>\n",
       "      <td>640</td>\n",
       "    </tr>\n",
       "    <tr>\n",
       "      <th>2</th>\n",
       "      <td>Benton County, Tennessee</td>\n",
       "      <td>16511</td>\n",
       "      <td>16176</td>\n",
       "      <td>15986</td>\n",
       "      <td>45.6</td>\n",
       "      <td>46.7</td>\n",
       "      <td>47.4</td>\n",
       "      <td>1259</td>\n",
       "      <td>1204</td>\n",
       "      <td>1179</td>\n",
       "      <td>...</td>\n",
       "      <td>1075</td>\n",
       "      <td>562</td>\n",
       "      <td>681</td>\n",
       "      <td>717</td>\n",
       "      <td>414</td>\n",
       "      <td>399</td>\n",
       "      <td>418</td>\n",
       "      <td>362</td>\n",
       "      <td>409</td>\n",
       "      <td>415</td>\n",
       "    </tr>\n",
       "    <tr>\n",
       "      <th>3</th>\n",
       "      <td>Bledsoe County, Tennessee</td>\n",
       "      <td>12882</td>\n",
       "      <td>14419</td>\n",
       "      <td>14717</td>\n",
       "      <td>42.5</td>\n",
       "      <td>43.3</td>\n",
       "      <td>43.9</td>\n",
       "      <td>1005</td>\n",
       "      <td>1216</td>\n",
       "      <td>1185</td>\n",
       "      <td>...</td>\n",
       "      <td>732</td>\n",
       "      <td>344</td>\n",
       "      <td>421</td>\n",
       "      <td>510</td>\n",
       "      <td>234</td>\n",
       "      <td>275</td>\n",
       "      <td>267</td>\n",
       "      <td>178</td>\n",
       "      <td>209</td>\n",
       "      <td>264</td>\n",
       "    </tr>\n",
       "    <tr>\n",
       "      <th>4</th>\n",
       "      <td>Blount County, Tennessee</td>\n",
       "      <td>123213</td>\n",
       "      <td>125827</td>\n",
       "      <td>129929</td>\n",
       "      <td>41.5</td>\n",
       "      <td>43.1</td>\n",
       "      <td>43.8</td>\n",
       "      <td>9152</td>\n",
       "      <td>9658</td>\n",
       "      <td>9522</td>\n",
       "      <td>...</td>\n",
       "      <td>6808</td>\n",
       "      <td>3468</td>\n",
       "      <td>4074</td>\n",
       "      <td>4663</td>\n",
       "      <td>2550</td>\n",
       "      <td>2591</td>\n",
       "      <td>2939</td>\n",
       "      <td>2390</td>\n",
       "      <td>2656</td>\n",
       "      <td>2786</td>\n",
       "    </tr>\n",
       "  </tbody>\n",
       "</table>\n",
       "<p>5 rows × 31 columns</p>\n",
       "</div>"
      ],
      "text/plain": [
       "                       county  pop2010all  pop2014all  pop2017all  \\\n",
       "0  Anderson County, Tennessee       75112       75131       76257   \n",
       "1   Bedford County, Tennessee       45086       46259       48117   \n",
       "2    Benton County, Tennessee       16511       16176       15986   \n",
       "3   Bledsoe County, Tennessee       12882       14419       14717   \n",
       "4    Blount County, Tennessee      123213      125827      129929   \n",
       "\n",
       "   median_age_2010  median_age_2014  median_age_2017  pop2010_50to54  \\\n",
       "0             42.6             43.3             43.2            5850   \n",
       "1             36.5             37.2             37.5            3043   \n",
       "2             45.6             46.7             47.4            1259   \n",
       "3             42.5             43.3             43.9            1005   \n",
       "4             41.5             43.1             43.8            9152   \n",
       "\n",
       "   pop2014_50to54  pop2017_50to54       ...        pop2017_70to74  \\\n",
       "0            5690            5296       ...                  3765   \n",
       "1            3207            3239       ...                  1988   \n",
       "2            1204            1179       ...                  1075   \n",
       "3            1216            1185       ...                   732   \n",
       "4            9658            9522       ...                  6808   \n",
       "\n",
       "   pop2010_75to79  pop2014_75to79  pop2017_75to79  pop2010_80to84  \\\n",
       "0            2276            2327            2501            1969   \n",
       "1             992            1156            1321             756   \n",
       "2             562             681             717             414   \n",
       "3             344             421             510             234   \n",
       "4            3468            4074            4663            2550   \n",
       "\n",
       "   pop2014_80to84  pop2017_80to84  pop2010_85over  pop2014_85over  \\\n",
       "0            1779            1785            2135            2211   \n",
       "1             729             811             647             679   \n",
       "2             399             418             362             409   \n",
       "3             275             267             178             209   \n",
       "4            2591            2939            2390            2656   \n",
       "\n",
       "   pop2017_85over  \n",
       "0            2173  \n",
       "1             640  \n",
       "2             415  \n",
       "3             264  \n",
       "4            2786  \n",
       "\n",
       "[5 rows x 31 columns]"
      ]
     },
     "execution_count": 12,
     "metadata": {},
     "output_type": "execute_result"
    }
   ],
   "source": [
    "subset_pop_df.columns\n",
    "new_col_lables = ['county', 'pop2010all', 'pop2014all', 'pop2017all', 'median_age_2010', 'median_age_2014', 'median_age_2017', 'pop2010_50to54','pop2014_50to54', 'pop2017_50to54', 'pop2010_55to59', 'pop2014_55to59', 'pop2017_55to59', 'pop2010_60to64', 'pop2014_60to64', 'pop2017_60to64',\n",
    "    'pop2010_65to69', 'pop2014_65to69', 'pop2017_65to69', 'pop2010_70to74', 'pop2014_70to74', 'pop2017_70to74', 'pop2010_75to79', 'pop2014_75to79', 'pop2017_75to79', 'pop2010_80to84', 'pop2014_80to84', 'pop2017_80to84',\n",
    "    'pop2010_85over', 'pop2014_85over', 'pop2017_85over']\n",
    "\n",
    "subset_pop_df.columns = new_col_lables\n",
    "subset_pop_df.head()"
   ]
  }
 ],
 "metadata": {
  "kernelspec": {
   "display_name": "Python 3",
   "language": "python",
   "name": "python3"
  },
  "language_info": {
   "codemirror_mode": {
    "name": "ipython",
    "version": 3
   },
   "file_extension": ".py",
   "mimetype": "text/x-python",
   "name": "python",
   "nbconvert_exporter": "python",
   "pygments_lexer": "ipython3",
   "version": "3.6.6"
  }
 },
 "nbformat": 4,
 "nbformat_minor": 2
}
