{
 "cells": [
  {
   "cell_type": "markdown",
   "metadata": {},
   "source": [
    "# Week 3"
   ]
  },
  {
   "cell_type": "code",
   "execution_count": 202,
   "metadata": {},
   "outputs": [],
   "source": [
    "#import libraries\n",
    "import pandas as pd"
   ]
  },
  {
   "cell_type": "markdown",
   "metadata": {},
   "source": [
    "## import and explore census data to figure out which columns to keep"
   ]
  },
  {
   "cell_type": "code",
   "execution_count": 203,
   "metadata": {},
   "outputs": [],
   "source": [
    "pop_df = pd.read_csv('./data/PEP_2017_PEPAGESEX.csv', skiprows=1)"
   ]
  },
  {
   "cell_type": "markdown",
   "metadata": {},
   "source": [
    "## subset out required columns"
   ]
  },
  {
   "cell_type": "code",
   "execution_count": 204,
   "metadata": {
    "scrolled": true
   },
   "outputs": [
    {
     "name": "stdout",
     "output_type": "stream",
     "text": [
      "Index(['Id', 'Id2', 'Geography', 'April 1, 2010 - Census - Both Sexes; Total',\n",
      "       'April 1, 2010 - Census - Male; Total',\n",
      "       'April 1, 2010 - Census - Female; Total',\n",
      "       'Population Estimate (as of July 1) - 2010 - Both Sexes; Total',\n",
      "       'Population Estimate (as of July 1) - 2010 - Male; Total',\n",
      "       'Population Estimate (as of July 1) - 2010 - Female; Total',\n",
      "       'Population Estimate (as of July 1) - 2011 - Both Sexes; Total',\n",
      "       ...\n",
      "       'Population Estimate (as of July 1) - 2014 - Females; Median age (years)',\n",
      "       'Population Estimate (as of July 1) - 2015 - Both Sexes; Median age (years)',\n",
      "       'Population Estimate (as of July 1) - 2015 - Male; Median age (years)',\n",
      "       'Population Estimate (as of July 1) - 2015 - Female; Median age (years)',\n",
      "       'Population Estimate (as of July 1) - 2016 - Both Sexes; Median age (years)',\n",
      "       'Population Estimate (as of July 1) - 2016 - Male; Median age (years)',\n",
      "       'Population Estimate (as of July 1) - 2016 - Female; Median age (years)',\n",
      "       'Population Estimate (as of July 1) - 2017 - Both Sexes; Median age (years)',\n",
      "       'Population Estimate (as of July 1) - 2017 - Male; Median age (years)',\n",
      "       'Population Estimate (as of July 1) - 2017 - Female; Median age (years)'],\n",
      "      dtype='object', length=894)\n"
     ]
    }
   ],
   "source": [
    "#isolate all the columns from the dataframe\n",
    "pop_cols = pop_df.columns\n",
    "\n",
    "#make a mask to pick out all the 'April estimate' values using regexes\n",
    "april_mask = pop_cols.str.contains('April.*?estimate', case=False)\n",
    "\n",
    "#subset out everything but all the April estimate values\n",
    "noest = pop_cols[~april_mask]\n",
    "print(noest)"
   ]
  },
  {
   "cell_type": "code",
   "execution_count": 205,
   "metadata": {},
   "outputs": [
    {
     "data": {
      "text/plain": [
       "Index(['Population Estimate (as of July 1) - 2010 - Both Sexes; Total - 50 to 54 years',\n",
       "       'Population Estimate (as of July 1) - 2014 - Both Sexes; Total - 50 to 54 years',\n",
       "       'Population Estimate (as of July 1) - 2017 - Both Sexes; Total - 50 to 54 years',\n",
       "       'Population Estimate (as of July 1) - 2010 - Both Sexes; Total - 55 to 59 years',\n",
       "       'Population Estimate (as of July 1) - 2014 - Both Sexes; Total - 55 to 59 years',\n",
       "       'Population Estimate (as of July 1) - 2017 - Both Sexes; Total - 55 to 59 years',\n",
       "       'Population Estimate (as of July 1) - 2010 - Both Sexes; Total - 60 to 64 years',\n",
       "       'Population Estimate (as of July 1) - 2014 - Both Sexes; Total - 60 to 64 years',\n",
       "       'Population Estimate (as of July 1) - 2017 - Both Sexes; Total - 60 to 64 years',\n",
       "       'Population Estimate (as of July 1) - 2010 - Both Sexes; Total - 65 to 69 years',\n",
       "       'Population Estimate (as of July 1) - 2014 - Both Sexes; Total - 65 to 69 years',\n",
       "       'Population Estimate (as of July 1) - 2017 - Both Sexes; Total - 65 to 69 years',\n",
       "       'Population Estimate (as of July 1) - 2010 - Both Sexes; Total - 70 to 74 years',\n",
       "       'Population Estimate (as of July 1) - 2014 - Both Sexes; Total - 70 to 74 years',\n",
       "       'Population Estimate (as of July 1) - 2017 - Both Sexes; Total - 70 to 74 years',\n",
       "       'Population Estimate (as of July 1) - 2010 - Both Sexes; Total - 75 to 79 years',\n",
       "       'Population Estimate (as of July 1) - 2014 - Both Sexes; Total - 75 to 79 years',\n",
       "       'Population Estimate (as of July 1) - 2017 - Both Sexes; Total - 75 to 79 years',\n",
       "       'Population Estimate (as of July 1) - 2010 - Both Sexes; Total - 80 to 84 years',\n",
       "       'Population Estimate (as of July 1) - 2014 - Both Sexes; Total - 80 to 84 years',\n",
       "       'Population Estimate (as of July 1) - 2017 - Both Sexes; Total - 80 to 84 years',\n",
       "       'Population Estimate (as of July 1) - 2010 - Both Sexes; Total - 85 years and over',\n",
       "       'Population Estimate (as of July 1) - 2014 - Both Sexes; Total - 85 years and over',\n",
       "       'Population Estimate (as of July 1) - 2017 - Both Sexes; Total - 85 years and over'],\n",
       "      dtype='object')"
      ]
     },
     "execution_count": 205,
     "metadata": {},
     "output_type": "execute_result"
    }
   ],
   "source": [
    "#pick out all the old people using a regex and subset\n",
    "old_mask = noest.str.contains('July.*?201[047].*?Both.*?[5-9][0-9] to|July.*?201[047].*?Both.*?Total.*?85 years and')\n",
    "old_people_columns = noest[old_mask]\n",
    "old_people_columns"
   ]
  },
  {
   "cell_type": "code",
   "execution_count": 206,
   "metadata": {},
   "outputs": [],
   "source": [
    "#write a regex that pulls out all of the other stuff we need and subset\n",
    "odd_mask = noest.str.contains('Geography|July.*?201[047].*?Both.*?Total$|July.*?201[047].*?both.*?median', case=False)\n",
    "misc_columns = noest[odd_mask]"
   ]
  },
  {
   "cell_type": "code",
   "execution_count": 207,
   "metadata": {},
   "outputs": [],
   "source": [
    "#convert to lists (so we can combine the series we made) and combine them into one data structure\n",
    "req_cols = list(misc_columns) + list(old_people_columns)"
   ]
  },
  {
   "cell_type": "code",
   "execution_count": 208,
   "metadata": {},
   "outputs": [
    {
     "data": {
      "text/plain": [
       "(95, 31)"
      ]
     },
     "execution_count": 208,
     "metadata": {},
     "output_type": "execute_result"
    }
   ],
   "source": [
    "#subset df by the data structure we created\n",
    "subset_pop_df = pop_df.loc[:,req_cols]\n",
    "subset_pop_df.shape"
   ]
  },
  {
   "cell_type": "markdown",
   "metadata": {},
   "source": [
    "## rename columns"
   ]
  },
  {
   "cell_type": "code",
   "execution_count": 209,
   "metadata": {
    "scrolled": true
   },
   "outputs": [
    {
     "data": {
      "text/html": [
       "<div>\n",
       "<style scoped>\n",
       "    .dataframe tbody tr th:only-of-type {\n",
       "        vertical-align: middle;\n",
       "    }\n",
       "\n",
       "    .dataframe tbody tr th {\n",
       "        vertical-align: top;\n",
       "    }\n",
       "\n",
       "    .dataframe thead th {\n",
       "        text-align: right;\n",
       "    }\n",
       "</style>\n",
       "<table border=\"1\" class=\"dataframe\">\n",
       "  <thead>\n",
       "    <tr style=\"text-align: right;\">\n",
       "      <th></th>\n",
       "      <th>county</th>\n",
       "      <th>pop2010all</th>\n",
       "      <th>pop2014all</th>\n",
       "      <th>pop2017all</th>\n",
       "      <th>median_age_2010</th>\n",
       "      <th>median_age_2014</th>\n",
       "      <th>median_age_2017</th>\n",
       "      <th>pop2010_50to54</th>\n",
       "      <th>pop2014_50to54</th>\n",
       "      <th>pop2017_50to54</th>\n",
       "      <th>...</th>\n",
       "      <th>pop2017_70to74</th>\n",
       "      <th>pop2010_75to79</th>\n",
       "      <th>pop2014_75to79</th>\n",
       "      <th>pop2017_75to79</th>\n",
       "      <th>pop2010_80to84</th>\n",
       "      <th>pop2014_80to84</th>\n",
       "      <th>pop2017_80to84</th>\n",
       "      <th>pop2010_85over</th>\n",
       "      <th>pop2014_85over</th>\n",
       "      <th>pop2017_85over</th>\n",
       "    </tr>\n",
       "  </thead>\n",
       "  <tbody>\n",
       "    <tr>\n",
       "      <th>0</th>\n",
       "      <td>Anderson County, Tennessee</td>\n",
       "      <td>75112</td>\n",
       "      <td>75131</td>\n",
       "      <td>76257</td>\n",
       "      <td>42.6</td>\n",
       "      <td>43.3</td>\n",
       "      <td>43.2</td>\n",
       "      <td>5850</td>\n",
       "      <td>5690</td>\n",
       "      <td>5296</td>\n",
       "      <td>...</td>\n",
       "      <td>3765</td>\n",
       "      <td>2276</td>\n",
       "      <td>2327</td>\n",
       "      <td>2501</td>\n",
       "      <td>1969</td>\n",
       "      <td>1779</td>\n",
       "      <td>1785</td>\n",
       "      <td>2135</td>\n",
       "      <td>2211</td>\n",
       "      <td>2173</td>\n",
       "    </tr>\n",
       "    <tr>\n",
       "      <th>1</th>\n",
       "      <td>Bedford County, Tennessee</td>\n",
       "      <td>45086</td>\n",
       "      <td>46259</td>\n",
       "      <td>48117</td>\n",
       "      <td>36.5</td>\n",
       "      <td>37.2</td>\n",
       "      <td>37.5</td>\n",
       "      <td>3043</td>\n",
       "      <td>3207</td>\n",
       "      <td>3239</td>\n",
       "      <td>...</td>\n",
       "      <td>1988</td>\n",
       "      <td>992</td>\n",
       "      <td>1156</td>\n",
       "      <td>1321</td>\n",
       "      <td>756</td>\n",
       "      <td>729</td>\n",
       "      <td>811</td>\n",
       "      <td>647</td>\n",
       "      <td>679</td>\n",
       "      <td>640</td>\n",
       "    </tr>\n",
       "    <tr>\n",
       "      <th>2</th>\n",
       "      <td>Benton County, Tennessee</td>\n",
       "      <td>16511</td>\n",
       "      <td>16176</td>\n",
       "      <td>15986</td>\n",
       "      <td>45.6</td>\n",
       "      <td>46.7</td>\n",
       "      <td>47.4</td>\n",
       "      <td>1259</td>\n",
       "      <td>1204</td>\n",
       "      <td>1179</td>\n",
       "      <td>...</td>\n",
       "      <td>1075</td>\n",
       "      <td>562</td>\n",
       "      <td>681</td>\n",
       "      <td>717</td>\n",
       "      <td>414</td>\n",
       "      <td>399</td>\n",
       "      <td>418</td>\n",
       "      <td>362</td>\n",
       "      <td>409</td>\n",
       "      <td>415</td>\n",
       "    </tr>\n",
       "    <tr>\n",
       "      <th>3</th>\n",
       "      <td>Bledsoe County, Tennessee</td>\n",
       "      <td>12882</td>\n",
       "      <td>14419</td>\n",
       "      <td>14717</td>\n",
       "      <td>42.5</td>\n",
       "      <td>43.3</td>\n",
       "      <td>43.9</td>\n",
       "      <td>1005</td>\n",
       "      <td>1216</td>\n",
       "      <td>1185</td>\n",
       "      <td>...</td>\n",
       "      <td>732</td>\n",
       "      <td>344</td>\n",
       "      <td>421</td>\n",
       "      <td>510</td>\n",
       "      <td>234</td>\n",
       "      <td>275</td>\n",
       "      <td>267</td>\n",
       "      <td>178</td>\n",
       "      <td>209</td>\n",
       "      <td>264</td>\n",
       "    </tr>\n",
       "    <tr>\n",
       "      <th>4</th>\n",
       "      <td>Blount County, Tennessee</td>\n",
       "      <td>123213</td>\n",
       "      <td>125827</td>\n",
       "      <td>129929</td>\n",
       "      <td>41.5</td>\n",
       "      <td>43.1</td>\n",
       "      <td>43.8</td>\n",
       "      <td>9152</td>\n",
       "      <td>9658</td>\n",
       "      <td>9522</td>\n",
       "      <td>...</td>\n",
       "      <td>6808</td>\n",
       "      <td>3468</td>\n",
       "      <td>4074</td>\n",
       "      <td>4663</td>\n",
       "      <td>2550</td>\n",
       "      <td>2591</td>\n",
       "      <td>2939</td>\n",
       "      <td>2390</td>\n",
       "      <td>2656</td>\n",
       "      <td>2786</td>\n",
       "    </tr>\n",
       "  </tbody>\n",
       "</table>\n",
       "<p>5 rows × 31 columns</p>\n",
       "</div>"
      ],
      "text/plain": [
       "                       county  pop2010all  pop2014all  pop2017all  \\\n",
       "0  Anderson County, Tennessee       75112       75131       76257   \n",
       "1   Bedford County, Tennessee       45086       46259       48117   \n",
       "2    Benton County, Tennessee       16511       16176       15986   \n",
       "3   Bledsoe County, Tennessee       12882       14419       14717   \n",
       "4    Blount County, Tennessee      123213      125827      129929   \n",
       "\n",
       "   median_age_2010  median_age_2014  median_age_2017  pop2010_50to54  \\\n",
       "0             42.6             43.3             43.2            5850   \n",
       "1             36.5             37.2             37.5            3043   \n",
       "2             45.6             46.7             47.4            1259   \n",
       "3             42.5             43.3             43.9            1005   \n",
       "4             41.5             43.1             43.8            9152   \n",
       "\n",
       "   pop2014_50to54  pop2017_50to54       ...        pop2017_70to74  \\\n",
       "0            5690            5296       ...                  3765   \n",
       "1            3207            3239       ...                  1988   \n",
       "2            1204            1179       ...                  1075   \n",
       "3            1216            1185       ...                   732   \n",
       "4            9658            9522       ...                  6808   \n",
       "\n",
       "   pop2010_75to79  pop2014_75to79  pop2017_75to79  pop2010_80to84  \\\n",
       "0            2276            2327            2501            1969   \n",
       "1             992            1156            1321             756   \n",
       "2             562             681             717             414   \n",
       "3             344             421             510             234   \n",
       "4            3468            4074            4663            2550   \n",
       "\n",
       "   pop2014_80to84  pop2017_80to84  pop2010_85over  pop2014_85over  \\\n",
       "0            1779            1785            2135            2211   \n",
       "1             729             811             647             679   \n",
       "2             399             418             362             409   \n",
       "3             275             267             178             209   \n",
       "4            2591            2939            2390            2656   \n",
       "\n",
       "   pop2017_85over  \n",
       "0            2173  \n",
       "1             640  \n",
       "2             415  \n",
       "3             264  \n",
       "4            2786  \n",
       "\n",
       "[5 rows x 31 columns]"
      ]
     },
     "execution_count": 209,
     "metadata": {},
     "output_type": "execute_result"
    }
   ],
   "source": [
    "subset_pop_df.columns\n",
    "new_col_lables = ['county', 'pop2010all', 'pop2014all', 'pop2017all', 'median_age_2010', 'median_age_2014', 'median_age_2017', 'pop2010_50to54','pop2014_50to54', 'pop2017_50to54', 'pop2010_55to59', 'pop2014_55to59', 'pop2017_55to59', 'pop2010_60to64', 'pop2014_60to64', 'pop2017_60to64',\n",
    "    'pop2010_65to69', 'pop2014_65to69', 'pop2017_65to69', 'pop2010_70to74', 'pop2014_70to74', 'pop2017_70to74', 'pop2010_75to79', 'pop2014_75to79', 'pop2017_75to79', 'pop2010_80to84', 'pop2014_80to84', 'pop2017_80to84',\n",
    "    'pop2010_85over', 'pop2014_85over', 'pop2017_85over']\n",
    "\n",
    "subset_pop_df.columns = new_col_lables\n",
    "subset_pop_df.head()"
   ]
  },
  {
   "cell_type": "markdown",
   "metadata": {},
   "source": [
    "## import cancer and hospice dfs"
   ]
  },
  {
   "cell_type": "code",
   "execution_count": 210,
   "metadata": {},
   "outputs": [
    {
     "data": {
      "text/html": [
       "<div>\n",
       "<style scoped>\n",
       "    .dataframe tbody tr th:only-of-type {\n",
       "        vertical-align: middle;\n",
       "    }\n",
       "\n",
       "    .dataframe tbody tr th {\n",
       "        vertical-align: top;\n",
       "    }\n",
       "\n",
       "    .dataframe thead th {\n",
       "        text-align: right;\n",
       "    }\n",
       "</style>\n",
       "<table border=\"1\" class=\"dataframe\">\n",
       "  <thead>\n",
       "    <tr style=\"text-align: right;\">\n",
       "      <th></th>\n",
       "      <th>facility name</th>\n",
       "      <th>address line 1</th>\n",
       "      <th>city</th>\n",
       "      <th>state</th>\n",
       "      <th>county name</th>\n",
       "      <th>cms region</th>\n",
       "      <th>ownership type</th>\n",
       "      <th>certification date</th>\n",
       "    </tr>\n",
       "  </thead>\n",
       "  <tbody>\n",
       "    <tr>\n",
       "      <th>2889</th>\n",
       "      <td>ALIVE HOSPICE INC</td>\n",
       "      <td>1718 PATTERSON ROAD</td>\n",
       "      <td>NASHVILLE</td>\n",
       "      <td>TN</td>\n",
       "      <td>Davidson</td>\n",
       "      <td>4</td>\n",
       "      <td>Non-Profit</td>\n",
       "      <td>04/10/1984</td>\n",
       "    </tr>\n",
       "    <tr>\n",
       "      <th>2890</th>\n",
       "      <td>METHODIST ALLIANCE HOSPICE</td>\n",
       "      <td>6400 SHELBY VIEW DRIVE, SUITE 101</td>\n",
       "      <td>MEMPHIS</td>\n",
       "      <td>TN</td>\n",
       "      <td>Shelby</td>\n",
       "      <td>4</td>\n",
       "      <td>Non-Profit</td>\n",
       "      <td>08/31/1984</td>\n",
       "    </tr>\n",
       "    <tr>\n",
       "      <th>2891</th>\n",
       "      <td>HOSPICE OF CHATTANOOGA INC</td>\n",
       "      <td>4411 OAKWOOD DRIVE</td>\n",
       "      <td>CHATTANOOGA</td>\n",
       "      <td>TN</td>\n",
       "      <td>Hamilton</td>\n",
       "      <td>4</td>\n",
       "      <td>Non-Profit</td>\n",
       "      <td>06/30/1986</td>\n",
       "    </tr>\n",
       "    <tr>\n",
       "      <th>2892</th>\n",
       "      <td>AMEDISYS HOSPICE CARE</td>\n",
       "      <td>6570 STAGE ROAD SUITE 110</td>\n",
       "      <td>BARTLETT</td>\n",
       "      <td>TN</td>\n",
       "      <td>Shelby</td>\n",
       "      <td>4</td>\n",
       "      <td>For-Profit</td>\n",
       "      <td>02/09/1987</td>\n",
       "    </tr>\n",
       "    <tr>\n",
       "      <th>2893</th>\n",
       "      <td>NORTHCREST HOME HEALTH AND HOSPICE</td>\n",
       "      <td>212 NORTHCREST DRIVE</td>\n",
       "      <td>SPRINGFIELD</td>\n",
       "      <td>TN</td>\n",
       "      <td>Robertson</td>\n",
       "      <td>4</td>\n",
       "      <td>Other</td>\n",
       "      <td>07/13/1987</td>\n",
       "    </tr>\n",
       "  </tbody>\n",
       "</table>\n",
       "</div>"
      ],
      "text/plain": [
       "                           facility name                     address line 1  \\\n",
       "2889                   ALIVE HOSPICE INC                1718 PATTERSON ROAD   \n",
       "2890          METHODIST ALLIANCE HOSPICE  6400 SHELBY VIEW DRIVE, SUITE 101   \n",
       "2891          HOSPICE OF CHATTANOOGA INC                 4411 OAKWOOD DRIVE   \n",
       "2892               AMEDISYS HOSPICE CARE          6570 STAGE ROAD SUITE 110   \n",
       "2893  NORTHCREST HOME HEALTH AND HOSPICE               212 NORTHCREST DRIVE   \n",
       "\n",
       "             city state county name  cms region ownership type  \\\n",
       "2889    NASHVILLE    TN    Davidson           4     Non-Profit   \n",
       "2890      MEMPHIS    TN      Shelby           4     Non-Profit   \n",
       "2891  CHATTANOOGA    TN    Hamilton           4     Non-Profit   \n",
       "2892     BARTLETT    TN      Shelby           4     For-Profit   \n",
       "2893  SPRINGFIELD    TN   Robertson           4          Other   \n",
       "\n",
       "     certification date  \n",
       "2889         04/10/1984  \n",
       "2890         08/31/1984  \n",
       "2891         06/30/1986  \n",
       "2892         02/09/1987  \n",
       "2893         07/13/1987  "
      ]
     },
     "execution_count": 210,
     "metadata": {},
     "output_type": "execute_result"
    }
   ],
   "source": [
    "#import hospice data, restrict to TN, limit columns, and reformat\n",
    "hospice = pd.read_csv('./data/Hospice_General_Information.csv')\n",
    "\n",
    "tn_hospice = hospice[hospice['State'] == 'TN']\n",
    "\n",
    "\n",
    "tn_hospice = tn_hospice[['Facility Name', 'Address Line 1', 'City', 'State', \n",
    "                                     'County Name', 'CMS Region', 'Ownership Type', 'Certification Date']]\n",
    "\n",
    "tn_hospice.columns = tn_hospice.columns.str.lower()\n",
    "tn_hospice.head()"
   ]
  },
  {
   "cell_type": "code",
   "execution_count": 211,
   "metadata": {
    "scrolled": true
   },
   "outputs": [
    {
     "data": {
      "text/html": [
       "<div>\n",
       "<style scoped>\n",
       "    .dataframe tbody tr th:only-of-type {\n",
       "        vertical-align: middle;\n",
       "    }\n",
       "\n",
       "    .dataframe tbody tr th {\n",
       "        vertical-align: top;\n",
       "    }\n",
       "\n",
       "    .dataframe thead th {\n",
       "        text-align: right;\n",
       "    }\n",
       "</style>\n",
       "<table border=\"1\" class=\"dataframe\">\n",
       "  <thead>\n",
       "    <tr style=\"text-align: right;\">\n",
       "      <th></th>\n",
       "      <th>County</th>\n",
       "      <th>FIPS</th>\n",
       "      <th>Met Healthy People Objective of 161.4?</th>\n",
       "      <th>Age-Adjusted Death Rate - deaths per 100,000</th>\n",
       "      <th>Lower 95% Confidence Interval</th>\n",
       "      <th>Upper 95% Confidence Interval</th>\n",
       "      <th>Average Annual Count</th>\n",
       "      <th>Recent Trend</th>\n",
       "      <th>Recent 5-Year Trend in Death Rates</th>\n",
       "      <th>Lower 95% Confidence Interval.1</th>\n",
       "      <th>Upper 95% Confidence Interval.1</th>\n",
       "    </tr>\n",
       "  </thead>\n",
       "  <tbody>\n",
       "    <tr>\n",
       "      <th>0</th>\n",
       "      <td>Tennessee</td>\n",
       "      <td>47999</td>\n",
       "      <td>No</td>\n",
       "      <td>185.4</td>\n",
       "      <td>184.0</td>\n",
       "      <td>186.8</td>\n",
       "      <td>13933</td>\n",
       "      <td>falling</td>\n",
       "      <td>-1.4</td>\n",
       "      <td>-1.5</td>\n",
       "      <td>-1.2</td>\n",
       "    </tr>\n",
       "    <tr>\n",
       "      <th>1</th>\n",
       "      <td>United States</td>\n",
       "      <td>0</td>\n",
       "      <td>No</td>\n",
       "      <td>163.5</td>\n",
       "      <td>163.3</td>\n",
       "      <td>163.7</td>\n",
       "      <td>586354</td>\n",
       "      <td>falling</td>\n",
       "      <td>-1.5</td>\n",
       "      <td>-1.6</td>\n",
       "      <td>-1.5</td>\n",
       "    </tr>\n",
       "    <tr>\n",
       "      <th>2</th>\n",
       "      <td>Trousdale County</td>\n",
       "      <td>47169</td>\n",
       "      <td>No</td>\n",
       "      <td>265.5</td>\n",
       "      <td>219.0</td>\n",
       "      <td>319.1</td>\n",
       "      <td>24</td>\n",
       "      <td>stable</td>\n",
       "      <td>0.0</td>\n",
       "      <td>-1.3</td>\n",
       "      <td>1.3</td>\n",
       "    </tr>\n",
       "    <tr>\n",
       "      <th>3</th>\n",
       "      <td>Scott County</td>\n",
       "      <td>47151</td>\n",
       "      <td>No</td>\n",
       "      <td>241.0</td>\n",
       "      <td>214.5</td>\n",
       "      <td>270.0</td>\n",
       "      <td>63</td>\n",
       "      <td>stable</td>\n",
       "      <td>-0.5</td>\n",
       "      <td>-1.1</td>\n",
       "      <td>0.1</td>\n",
       "    </tr>\n",
       "    <tr>\n",
       "      <th>4</th>\n",
       "      <td>Cheatham County</td>\n",
       "      <td>47021</td>\n",
       "      <td>No</td>\n",
       "      <td>239.6</td>\n",
       "      <td>217.8</td>\n",
       "      <td>263.0</td>\n",
       "      <td>97</td>\n",
       "      <td>stable</td>\n",
       "      <td>-0.6</td>\n",
       "      <td>-1.4</td>\n",
       "      <td>0.3</td>\n",
       "    </tr>\n",
       "  </tbody>\n",
       "</table>\n",
       "</div>"
      ],
      "text/plain": [
       "             County   FIPS Met Healthy People Objective of 161.4?  \\\n",
       "0         Tennessee  47999                                     No   \n",
       "1     United States      0                                     No   \n",
       "2  Trousdale County  47169                                     No   \n",
       "3      Scott County  47151                                     No   \n",
       "4   Cheatham County  47021                                     No   \n",
       "\n",
       "   Age-Adjusted Death Rate - deaths per 100,000  \\\n",
       "0                                         185.4   \n",
       "1                                         163.5   \n",
       "2                                         265.5   \n",
       "3                                         241.0   \n",
       "4                                         239.6   \n",
       "\n",
       "   Lower 95% Confidence Interval  Upper 95% Confidence Interval  \\\n",
       "0                          184.0                          186.8   \n",
       "1                          163.3                          163.7   \n",
       "2                          219.0                          319.1   \n",
       "3                          214.5                          270.0   \n",
       "4                          217.8                          263.0   \n",
       "\n",
       "   Average Annual Count Recent Trend  Recent 5-Year Trend in Death Rates  \\\n",
       "0                 13933      falling                                -1.4   \n",
       "1                586354      falling                                -1.5   \n",
       "2                    24       stable                                 0.0   \n",
       "3                    63       stable                                -0.5   \n",
       "4                    97       stable                                -0.6   \n",
       "\n",
       "   Lower 95% Confidence Interval.1  Upper 95% Confidence Interval.1  \n",
       "0                             -1.5                             -1.2  \n",
       "1                             -1.6                             -1.5  \n",
       "2                             -1.3                              1.3  \n",
       "3                             -1.1                              0.1  \n",
       "4                             -1.4                              0.3  "
      ]
     },
     "execution_count": 211,
     "metadata": {},
     "output_type": "execute_result"
    }
   ],
   "source": [
    "#import cancer df, reformat columns\n",
    "cancer_df = pd.read_csv('./data/cancer_deaths.csv', skiprows=4, skipfooter=14, engine='python')\n",
    "cancer_df.head()"
   ]
  },
  {
   "cell_type": "code",
   "execution_count": 212,
   "metadata": {
    "scrolled": true
   },
   "outputs": [
    {
     "data": {
      "text/html": [
       "<div>\n",
       "<style scoped>\n",
       "    .dataframe tbody tr th:only-of-type {\n",
       "        vertical-align: middle;\n",
       "    }\n",
       "\n",
       "    .dataframe tbody tr th {\n",
       "        vertical-align: top;\n",
       "    }\n",
       "\n",
       "    .dataframe thead th {\n",
       "        text-align: right;\n",
       "    }\n",
       "</style>\n",
       "<table border=\"1\" class=\"dataframe\">\n",
       "  <thead>\n",
       "    <tr style=\"text-align: right;\">\n",
       "      <th></th>\n",
       "      <th>county</th>\n",
       "      <th>fips</th>\n",
       "      <th>met_obj</th>\n",
       "      <th>deaths_per_100k</th>\n",
       "      <th>dr_ci_lower</th>\n",
       "      <th>dr_ci_upper</th>\n",
       "      <th>av_ann_count</th>\n",
       "      <th>recent_trend</th>\n",
       "      <th>5_year_death_trend</th>\n",
       "      <th>trend_ci_lower</th>\n",
       "      <th>trend_ci_upper</th>\n",
       "    </tr>\n",
       "  </thead>\n",
       "  <tbody>\n",
       "    <tr>\n",
       "      <th>0</th>\n",
       "      <td>Tennessee</td>\n",
       "      <td>47999</td>\n",
       "      <td>No</td>\n",
       "      <td>185.4</td>\n",
       "      <td>184.0</td>\n",
       "      <td>186.8</td>\n",
       "      <td>13933</td>\n",
       "      <td>falling</td>\n",
       "      <td>-1.4</td>\n",
       "      <td>-1.5</td>\n",
       "      <td>-1.2</td>\n",
       "    </tr>\n",
       "    <tr>\n",
       "      <th>1</th>\n",
       "      <td>United States</td>\n",
       "      <td>0</td>\n",
       "      <td>No</td>\n",
       "      <td>163.5</td>\n",
       "      <td>163.3</td>\n",
       "      <td>163.7</td>\n",
       "      <td>586354</td>\n",
       "      <td>falling</td>\n",
       "      <td>-1.5</td>\n",
       "      <td>-1.6</td>\n",
       "      <td>-1.5</td>\n",
       "    </tr>\n",
       "    <tr>\n",
       "      <th>2</th>\n",
       "      <td>Trousdale County</td>\n",
       "      <td>47169</td>\n",
       "      <td>No</td>\n",
       "      <td>265.5</td>\n",
       "      <td>219.0</td>\n",
       "      <td>319.1</td>\n",
       "      <td>24</td>\n",
       "      <td>stable</td>\n",
       "      <td>0.0</td>\n",
       "      <td>-1.3</td>\n",
       "      <td>1.3</td>\n",
       "    </tr>\n",
       "    <tr>\n",
       "      <th>3</th>\n",
       "      <td>Scott County</td>\n",
       "      <td>47151</td>\n",
       "      <td>No</td>\n",
       "      <td>241.0</td>\n",
       "      <td>214.5</td>\n",
       "      <td>270.0</td>\n",
       "      <td>63</td>\n",
       "      <td>stable</td>\n",
       "      <td>-0.5</td>\n",
       "      <td>-1.1</td>\n",
       "      <td>0.1</td>\n",
       "    </tr>\n",
       "    <tr>\n",
       "      <th>4</th>\n",
       "      <td>Cheatham County</td>\n",
       "      <td>47021</td>\n",
       "      <td>No</td>\n",
       "      <td>239.6</td>\n",
       "      <td>217.8</td>\n",
       "      <td>263.0</td>\n",
       "      <td>97</td>\n",
       "      <td>stable</td>\n",
       "      <td>-0.6</td>\n",
       "      <td>-1.4</td>\n",
       "      <td>0.3</td>\n",
       "    </tr>\n",
       "  </tbody>\n",
       "</table>\n",
       "</div>"
      ],
      "text/plain": [
       "             county   fips met_obj  deaths_per_100k  dr_ci_lower  dr_ci_upper  \\\n",
       "0         Tennessee  47999      No            185.4        184.0        186.8   \n",
       "1     United States      0      No            163.5        163.3        163.7   \n",
       "2  Trousdale County  47169      No            265.5        219.0        319.1   \n",
       "3      Scott County  47151      No            241.0        214.5        270.0   \n",
       "4   Cheatham County  47021      No            239.6        217.8        263.0   \n",
       "\n",
       "   av_ann_count recent_trend  5_year_death_trend  trend_ci_lower  \\\n",
       "0         13933      falling                -1.4            -1.5   \n",
       "1        586354      falling                -1.5            -1.6   \n",
       "2            24       stable                 0.0            -1.3   \n",
       "3            63       stable                -0.5            -1.1   \n",
       "4            97       stable                -0.6            -1.4   \n",
       "\n",
       "   trend_ci_upper  \n",
       "0            -1.2  \n",
       "1            -1.5  \n",
       "2             1.3  \n",
       "3             0.1  \n",
       "4             0.3  "
      ]
     },
     "execution_count": 212,
     "metadata": {},
     "output_type": "execute_result"
    }
   ],
   "source": [
    "cancer_df_cols = ['county', 'fips', 'met_obj', 'deaths_per_100k', 'dr_ci_lower',\n",
    "                 'dr_ci_upper', 'av_ann_count', 'recent_trend', '5_year_death_trend',\n",
    "                 'trend_ci_lower', 'trend_ci_upper']\n",
    "cancer_df.columns = cancer_df_cols\n",
    "cancer_df.head()"
   ]
  },
  {
   "cell_type": "markdown",
   "metadata": {},
   "source": [
    "# merge pop_df and cancer_df"
   ]
  },
  {
   "cell_type": "code",
   "execution_count": 213,
   "metadata": {},
   "outputs": [
    {
     "data": {
      "text/html": [
       "<div>\n",
       "<style scoped>\n",
       "    .dataframe tbody tr th:only-of-type {\n",
       "        vertical-align: middle;\n",
       "    }\n",
       "\n",
       "    .dataframe tbody tr th {\n",
       "        vertical-align: top;\n",
       "    }\n",
       "\n",
       "    .dataframe thead th {\n",
       "        text-align: right;\n",
       "    }\n",
       "</style>\n",
       "<table border=\"1\" class=\"dataframe\">\n",
       "  <thead>\n",
       "    <tr style=\"text-align: right;\">\n",
       "      <th></th>\n",
       "      <th>county</th>\n",
       "      <th>fips</th>\n",
       "      <th>met_obj</th>\n",
       "      <th>deaths_per_100k</th>\n",
       "      <th>dr_ci_lower</th>\n",
       "      <th>dr_ci_upper</th>\n",
       "      <th>av_ann_count</th>\n",
       "      <th>recent_trend</th>\n",
       "      <th>5_year_death_trend</th>\n",
       "      <th>trend_ci_lower</th>\n",
       "      <th>trend_ci_upper</th>\n",
       "    </tr>\n",
       "  </thead>\n",
       "  <tbody>\n",
       "    <tr>\n",
       "      <th>2</th>\n",
       "      <td>Trousdale</td>\n",
       "      <td>47169</td>\n",
       "      <td>No</td>\n",
       "      <td>265.5</td>\n",
       "      <td>219.0</td>\n",
       "      <td>319.1</td>\n",
       "      <td>24</td>\n",
       "      <td>stable</td>\n",
       "      <td>0.0</td>\n",
       "      <td>-1.3</td>\n",
       "      <td>1.3</td>\n",
       "    </tr>\n",
       "    <tr>\n",
       "      <th>3</th>\n",
       "      <td>Scott</td>\n",
       "      <td>47151</td>\n",
       "      <td>No</td>\n",
       "      <td>241.0</td>\n",
       "      <td>214.5</td>\n",
       "      <td>270.0</td>\n",
       "      <td>63</td>\n",
       "      <td>stable</td>\n",
       "      <td>-0.5</td>\n",
       "      <td>-1.1</td>\n",
       "      <td>0.1</td>\n",
       "    </tr>\n",
       "    <tr>\n",
       "      <th>4</th>\n",
       "      <td>Cheatham</td>\n",
       "      <td>47021</td>\n",
       "      <td>No</td>\n",
       "      <td>239.6</td>\n",
       "      <td>217.8</td>\n",
       "      <td>263.0</td>\n",
       "      <td>97</td>\n",
       "      <td>stable</td>\n",
       "      <td>-0.6</td>\n",
       "      <td>-1.4</td>\n",
       "      <td>0.3</td>\n",
       "    </tr>\n",
       "    <tr>\n",
       "      <th>5</th>\n",
       "      <td>Claiborne</td>\n",
       "      <td>47025</td>\n",
       "      <td>No</td>\n",
       "      <td>237.3</td>\n",
       "      <td>216.4</td>\n",
       "      <td>259.8</td>\n",
       "      <td>100</td>\n",
       "      <td>stable</td>\n",
       "      <td>-0.1</td>\n",
       "      <td>-0.7</td>\n",
       "      <td>0.4</td>\n",
       "    </tr>\n",
       "    <tr>\n",
       "      <th>6</th>\n",
       "      <td>Hancock</td>\n",
       "      <td>47067</td>\n",
       "      <td>No</td>\n",
       "      <td>236.2</td>\n",
       "      <td>193.1</td>\n",
       "      <td>287.1</td>\n",
       "      <td>22</td>\n",
       "      <td>stable</td>\n",
       "      <td>0.4</td>\n",
       "      <td>-0.8</td>\n",
       "      <td>1.6</td>\n",
       "    </tr>\n",
       "  </tbody>\n",
       "</table>\n",
       "</div>"
      ],
      "text/plain": [
       "      county   fips met_obj  deaths_per_100k  dr_ci_lower  dr_ci_upper  \\\n",
       "2  Trousdale  47169      No            265.5        219.0        319.1   \n",
       "3      Scott  47151      No            241.0        214.5        270.0   \n",
       "4   Cheatham  47021      No            239.6        217.8        263.0   \n",
       "5  Claiborne  47025      No            237.3        216.4        259.8   \n",
       "6    Hancock  47067      No            236.2        193.1        287.1   \n",
       "\n",
       "   av_ann_count recent_trend  5_year_death_trend  trend_ci_lower  \\\n",
       "2            24       stable                 0.0            -1.3   \n",
       "3            63       stable                -0.5            -1.1   \n",
       "4            97       stable                -0.6            -1.4   \n",
       "5           100       stable                -0.1            -0.7   \n",
       "6            22       stable                 0.4            -0.8   \n",
       "\n",
       "   trend_ci_upper  \n",
       "2             1.3  \n",
       "3             0.1  \n",
       "4             0.3  \n",
       "5             0.4  \n",
       "6             1.6  "
      ]
     },
     "execution_count": 213,
     "metadata": {},
     "output_type": "execute_result"
    }
   ],
   "source": [
    "#reformat cancer_df's county coulmn to match hospices's country to merge\n",
    "cancer_df = cancer_df.loc[cancer_df['county'].str.contains('County')]\n",
    "cancer_df['county'] = cancer_df['county'].replace(to_replace=r'.County', value='', regex=True)\n",
    "cancer_df.head()"
   ]
  },
  {
   "cell_type": "code",
   "execution_count": 214,
   "metadata": {
    "scrolled": true
   },
   "outputs": [
    {
     "data": {
      "text/html": [
       "<div>\n",
       "<style scoped>\n",
       "    .dataframe tbody tr th:only-of-type {\n",
       "        vertical-align: middle;\n",
       "    }\n",
       "\n",
       "    .dataframe tbody tr th {\n",
       "        vertical-align: top;\n",
       "    }\n",
       "\n",
       "    .dataframe thead th {\n",
       "        text-align: right;\n",
       "    }\n",
       "</style>\n",
       "<table border=\"1\" class=\"dataframe\">\n",
       "  <thead>\n",
       "    <tr style=\"text-align: right;\">\n",
       "      <th></th>\n",
       "      <th>county</th>\n",
       "      <th>pop2010all</th>\n",
       "      <th>pop2014all</th>\n",
       "      <th>pop2017all</th>\n",
       "      <th>median_age_2010</th>\n",
       "      <th>median_age_2014</th>\n",
       "      <th>median_age_2017</th>\n",
       "      <th>pop2010_50to54</th>\n",
       "      <th>pop2014_50to54</th>\n",
       "      <th>pop2017_50to54</th>\n",
       "      <th>...</th>\n",
       "      <th>pop2017_70to74</th>\n",
       "      <th>pop2010_75to79</th>\n",
       "      <th>pop2014_75to79</th>\n",
       "      <th>pop2017_75to79</th>\n",
       "      <th>pop2010_80to84</th>\n",
       "      <th>pop2014_80to84</th>\n",
       "      <th>pop2017_80to84</th>\n",
       "      <th>pop2010_85over</th>\n",
       "      <th>pop2014_85over</th>\n",
       "      <th>pop2017_85over</th>\n",
       "    </tr>\n",
       "  </thead>\n",
       "  <tbody>\n",
       "    <tr>\n",
       "      <th>0</th>\n",
       "      <td>Anderson</td>\n",
       "      <td>75112</td>\n",
       "      <td>75131</td>\n",
       "      <td>76257</td>\n",
       "      <td>42.6</td>\n",
       "      <td>43.3</td>\n",
       "      <td>43.2</td>\n",
       "      <td>5850</td>\n",
       "      <td>5690</td>\n",
       "      <td>5296</td>\n",
       "      <td>...</td>\n",
       "      <td>3765</td>\n",
       "      <td>2276</td>\n",
       "      <td>2327</td>\n",
       "      <td>2501</td>\n",
       "      <td>1969</td>\n",
       "      <td>1779</td>\n",
       "      <td>1785</td>\n",
       "      <td>2135</td>\n",
       "      <td>2211</td>\n",
       "      <td>2173</td>\n",
       "    </tr>\n",
       "    <tr>\n",
       "      <th>1</th>\n",
       "      <td>Bedford</td>\n",
       "      <td>45086</td>\n",
       "      <td>46259</td>\n",
       "      <td>48117</td>\n",
       "      <td>36.5</td>\n",
       "      <td>37.2</td>\n",
       "      <td>37.5</td>\n",
       "      <td>3043</td>\n",
       "      <td>3207</td>\n",
       "      <td>3239</td>\n",
       "      <td>...</td>\n",
       "      <td>1988</td>\n",
       "      <td>992</td>\n",
       "      <td>1156</td>\n",
       "      <td>1321</td>\n",
       "      <td>756</td>\n",
       "      <td>729</td>\n",
       "      <td>811</td>\n",
       "      <td>647</td>\n",
       "      <td>679</td>\n",
       "      <td>640</td>\n",
       "    </tr>\n",
       "    <tr>\n",
       "      <th>2</th>\n",
       "      <td>Benton</td>\n",
       "      <td>16511</td>\n",
       "      <td>16176</td>\n",
       "      <td>15986</td>\n",
       "      <td>45.6</td>\n",
       "      <td>46.7</td>\n",
       "      <td>47.4</td>\n",
       "      <td>1259</td>\n",
       "      <td>1204</td>\n",
       "      <td>1179</td>\n",
       "      <td>...</td>\n",
       "      <td>1075</td>\n",
       "      <td>562</td>\n",
       "      <td>681</td>\n",
       "      <td>717</td>\n",
       "      <td>414</td>\n",
       "      <td>399</td>\n",
       "      <td>418</td>\n",
       "      <td>362</td>\n",
       "      <td>409</td>\n",
       "      <td>415</td>\n",
       "    </tr>\n",
       "    <tr>\n",
       "      <th>3</th>\n",
       "      <td>Bledsoe</td>\n",
       "      <td>12882</td>\n",
       "      <td>14419</td>\n",
       "      <td>14717</td>\n",
       "      <td>42.5</td>\n",
       "      <td>43.3</td>\n",
       "      <td>43.9</td>\n",
       "      <td>1005</td>\n",
       "      <td>1216</td>\n",
       "      <td>1185</td>\n",
       "      <td>...</td>\n",
       "      <td>732</td>\n",
       "      <td>344</td>\n",
       "      <td>421</td>\n",
       "      <td>510</td>\n",
       "      <td>234</td>\n",
       "      <td>275</td>\n",
       "      <td>267</td>\n",
       "      <td>178</td>\n",
       "      <td>209</td>\n",
       "      <td>264</td>\n",
       "    </tr>\n",
       "    <tr>\n",
       "      <th>4</th>\n",
       "      <td>Blount</td>\n",
       "      <td>123213</td>\n",
       "      <td>125827</td>\n",
       "      <td>129929</td>\n",
       "      <td>41.5</td>\n",
       "      <td>43.1</td>\n",
       "      <td>43.8</td>\n",
       "      <td>9152</td>\n",
       "      <td>9658</td>\n",
       "      <td>9522</td>\n",
       "      <td>...</td>\n",
       "      <td>6808</td>\n",
       "      <td>3468</td>\n",
       "      <td>4074</td>\n",
       "      <td>4663</td>\n",
       "      <td>2550</td>\n",
       "      <td>2591</td>\n",
       "      <td>2939</td>\n",
       "      <td>2390</td>\n",
       "      <td>2656</td>\n",
       "      <td>2786</td>\n",
       "    </tr>\n",
       "  </tbody>\n",
       "</table>\n",
       "<p>5 rows × 31 columns</p>\n",
       "</div>"
      ],
      "text/plain": [
       "     county  pop2010all  pop2014all  pop2017all  median_age_2010  \\\n",
       "0  Anderson       75112       75131       76257             42.6   \n",
       "1   Bedford       45086       46259       48117             36.5   \n",
       "2    Benton       16511       16176       15986             45.6   \n",
       "3   Bledsoe       12882       14419       14717             42.5   \n",
       "4    Blount      123213      125827      129929             41.5   \n",
       "\n",
       "   median_age_2014  median_age_2017  pop2010_50to54  pop2014_50to54  \\\n",
       "0             43.3             43.2            5850            5690   \n",
       "1             37.2             37.5            3043            3207   \n",
       "2             46.7             47.4            1259            1204   \n",
       "3             43.3             43.9            1005            1216   \n",
       "4             43.1             43.8            9152            9658   \n",
       "\n",
       "   pop2017_50to54       ...        pop2017_70to74  pop2010_75to79  \\\n",
       "0            5296       ...                  3765            2276   \n",
       "1            3239       ...                  1988             992   \n",
       "2            1179       ...                  1075             562   \n",
       "3            1185       ...                   732             344   \n",
       "4            9522       ...                  6808            3468   \n",
       "\n",
       "   pop2014_75to79  pop2017_75to79  pop2010_80to84  pop2014_80to84  \\\n",
       "0            2327            2501            1969            1779   \n",
       "1            1156            1321             756             729   \n",
       "2             681             717             414             399   \n",
       "3             421             510             234             275   \n",
       "4            4074            4663            2550            2591   \n",
       "\n",
       "   pop2017_80to84  pop2010_85over  pop2014_85over  pop2017_85over  \n",
       "0            1785            2135            2211            2173  \n",
       "1             811             647             679             640  \n",
       "2             418             362             409             415  \n",
       "3             267             178             209             264  \n",
       "4            2939            2390            2656            2786  \n",
       "\n",
       "[5 rows x 31 columns]"
      ]
     },
     "execution_count": 214,
     "metadata": {},
     "output_type": "execute_result"
    }
   ],
   "source": [
    "#reformat census data to match hospicses's county to merge\n",
    "subset_pop_df['county'] = subset_pop_df['county'].replace(to_replace=r'.County.*?$', value='', regex=True)\n",
    "subset_pop_df.head()"
   ]
  },
  {
   "cell_type": "code",
   "execution_count": 215,
   "metadata": {},
   "outputs": [],
   "source": [
    "#outer merge\n",
    "pop_cancer_df = cancer_df.merge(subset_pop_df, how='outer', on='county')"
   ]
  },
  {
   "cell_type": "markdown",
   "metadata": {},
   "source": [
    "## count hospice per county and add to pop_cancer_df"
   ]
  },
  {
   "cell_type": "code",
   "execution_count": 216,
   "metadata": {},
   "outputs": [
    {
     "data": {
      "text/plain": [
       "{'Davidson': 8,\n",
       " 'Hamilton': 5,\n",
       " 'Shelby': 5,\n",
       " 'Knox': 5,\n",
       " 'Williamson': 2,\n",
       " 'Washington': 2,\n",
       " 'Madison': 2,\n",
       " 'Robertson': 2,\n",
       " 'Bradley': 2,\n",
       " 'Carroll': 2,\n",
       " 'Perry': 1,\n",
       " 'Rutherford': 1,\n",
       " 'Lincoln': 1,\n",
       " 'Putnam': 1,\n",
       " 'Cumberland': 1,\n",
       " 'Henry': 1,\n",
       " 'Fayette': 1,\n",
       " 'Obion': 1,\n",
       " 'Claiborne': 1,\n",
       " 'Coffee': 1,\n",
       " 'Cocke': 1,\n",
       " 'Carter': 1,\n",
       " 'Hancock': 1,\n",
       " 'Blount': 1,\n",
       " 'Hamblen': 1,\n",
       " 'Sullivan': 1,\n",
       " 'Fentress': 1,\n",
       " 'Montgomery': 1,\n",
       " 'Wayne': 1,\n",
       " 'McMinn': 1,\n",
       " 'Sumner': 1,\n",
       " 'Trousdale': 0,\n",
       " 'Scott': 0,\n",
       " 'Cheatham': 0,\n",
       " 'Union': 0,\n",
       " 'Benton': 0,\n",
       " 'Houston': 0,\n",
       " 'Sequatchie': 0,\n",
       " 'Grainger': 0,\n",
       " 'Lake': 0,\n",
       " 'Campbell': 0,\n",
       " 'Stewart': 0,\n",
       " 'Overton': 0,\n",
       " 'Marion': 0,\n",
       " 'White': 0,\n",
       " 'Johnson': 0,\n",
       " 'Meigs': 0,\n",
       " 'Humphreys': 0,\n",
       " 'Macon': 0,\n",
       " 'Grundy': 0,\n",
       " 'Tipton': 0,\n",
       " 'Polk': 0,\n",
       " 'Clay': 0,\n",
       " 'Decatur': 0,\n",
       " 'Henderson': 0,\n",
       " 'Lauderdale': 0,\n",
       " 'McNairy': 0,\n",
       " 'Marshall': 0,\n",
       " 'Lewis': 0,\n",
       " 'Cannon': 0,\n",
       " 'Gibson': 0,\n",
       " 'Dickson': 0,\n",
       " 'Hickman': 0,\n",
       " 'Warren': 0,\n",
       " 'Unicoi': 0,\n",
       " 'Hawkins': 0,\n",
       " 'Hardeman': 0,\n",
       " 'Rhea': 0,\n",
       " 'Giles': 0,\n",
       " 'Smith': 0,\n",
       " 'Monroe': 0,\n",
       " 'Hardin': 0,\n",
       " 'Jackson': 0,\n",
       " 'Haywood': 0,\n",
       " 'Lawrence': 0,\n",
       " 'Weakley': 0,\n",
       " 'Sevier': 0,\n",
       " 'Greene': 0,\n",
       " 'Roane': 0,\n",
       " 'Franklin': 0,\n",
       " 'Dyer': 0,\n",
       " 'Bedford': 0,\n",
       " 'Maury': 0,\n",
       " 'Morgan': 0,\n",
       " 'Anderson': 0,\n",
       " 'DeKalb': 0,\n",
       " 'Chester': 0,\n",
       " 'Loudon': 0,\n",
       " 'Wilson': 0,\n",
       " 'Bledsoe': 0,\n",
       " 'Jefferson': 0,\n",
       " 'Crockett': 0,\n",
       " 'Van Buren': 0,\n",
       " 'Pickett': 0,\n",
       " 'Moore': 0}"
      ]
     },
     "execution_count": 216,
     "metadata": {},
     "output_type": "execute_result"
    }
   ],
   "source": [
    "#count hospices and add counties that lack hospices\n",
    "hospice_counts = tn_hospice['county name'].value_counts().to_dict()\n",
    "\n",
    "no_hospice_counties = {county:0 for county in pop_cancer_df['county'] if county not in hospice_counts.keys()}\n",
    "hospice_counts.update(no_hospice_counties)\n",
    "hospice_counts"
   ]
  },
  {
   "cell_type": "code",
   "execution_count": 217,
   "metadata": {},
   "outputs": [
    {
     "data": {
      "text/plain": [
       "county\n",
       "Trousdale     0\n",
       "Scott         0\n",
       "Cheatham      0\n",
       "Claiborne     1\n",
       "Hancock       1\n",
       "Union         0\n",
       "Benton        0\n",
       "Houston       0\n",
       "Sequatchie    0\n",
       "Cocke         1\n",
       "Grainger      0\n",
       "Carroll       2\n",
       "Lake          0\n",
       "Campbell      0\n",
       "Stewart       0\n",
       "Overton       0\n",
       "Marion        0\n",
       "White         0\n",
       "Perry         1\n",
       "Johnson       0\n",
       "Meigs         0\n",
       "Obion         1\n",
       "Humphreys     0\n",
       "Macon         0\n",
       "Fentress      1\n",
       "Grundy        0\n",
       "Tipton        0\n",
       "Polk          0\n",
       "Clay          0\n",
       "Decatur       0\n",
       "             ..\n",
       "Franklin      0\n",
       "Bradley       2\n",
       "Dyer          0\n",
       "Bedford       0\n",
       "Sullivan      1\n",
       "Maury         0\n",
       "Lincoln       1\n",
       "Morgan        0\n",
       "Anderson      0\n",
       "Washington    2\n",
       "DeKalb        0\n",
       "Chester       0\n",
       "Knox          5\n",
       "Carter        1\n",
       "Cumberland    1\n",
       "Loudon        0\n",
       "Hamilton      5\n",
       "Madison       2\n",
       "Wilson        0\n",
       "Rutherford    1\n",
       "Bledsoe       0\n",
       "Jefferson     0\n",
       "Blount        1\n",
       "Crockett      0\n",
       "Sumner        1\n",
       "Van Buren     0\n",
       "Pickett       0\n",
       "Fayette       1\n",
       "Williamson    2\n",
       "Moore         0\n",
       "Name: hospice_count, Length: 95, dtype: int64"
      ]
     },
     "execution_count": 217,
     "metadata": {},
     "output_type": "execute_result"
    }
   ],
   "source": [
    "#convert to series and add to pop_cancer_df\n",
    "s_hospice_counts = pd.Series(hospice_counts, name='county')\n",
    "pop_cancer_hospice_df = pop_cancer_df.set_index('county')\n",
    "pop_cancer_hospice_df['hospice_count'] = s_hospice_counts\n",
    "pop_cancer_hospice_df['hospice_count']"
   ]
  },
  {
   "cell_type": "code",
   "execution_count": 218,
   "metadata": {
    "scrolled": true
   },
   "outputs": [
    {
     "data": {
      "text/html": [
       "<div>\n",
       "<style scoped>\n",
       "    .dataframe tbody tr th:only-of-type {\n",
       "        vertical-align: middle;\n",
       "    }\n",
       "\n",
       "    .dataframe tbody tr th {\n",
       "        vertical-align: top;\n",
       "    }\n",
       "\n",
       "    .dataframe thead th {\n",
       "        text-align: right;\n",
       "    }\n",
       "</style>\n",
       "<table border=\"1\" class=\"dataframe\">\n",
       "  <thead>\n",
       "    <tr style=\"text-align: right;\">\n",
       "      <th></th>\n",
       "      <th>fips</th>\n",
       "      <th>met_obj</th>\n",
       "      <th>deaths_per_100k</th>\n",
       "      <th>dr_ci_lower</th>\n",
       "      <th>dr_ci_upper</th>\n",
       "      <th>av_ann_count</th>\n",
       "      <th>recent_trend</th>\n",
       "      <th>5_year_death_trend</th>\n",
       "      <th>trend_ci_lower</th>\n",
       "      <th>trend_ci_upper</th>\n",
       "      <th>...</th>\n",
       "      <th>pop2010_75to79</th>\n",
       "      <th>pop2014_75to79</th>\n",
       "      <th>pop2017_75to79</th>\n",
       "      <th>pop2010_80to84</th>\n",
       "      <th>pop2014_80to84</th>\n",
       "      <th>pop2017_80to84</th>\n",
       "      <th>pop2010_85over</th>\n",
       "      <th>pop2014_85over</th>\n",
       "      <th>pop2017_85over</th>\n",
       "      <th>hospice_count</th>\n",
       "    </tr>\n",
       "    <tr>\n",
       "      <th>county</th>\n",
       "      <th></th>\n",
       "      <th></th>\n",
       "      <th></th>\n",
       "      <th></th>\n",
       "      <th></th>\n",
       "      <th></th>\n",
       "      <th></th>\n",
       "      <th></th>\n",
       "      <th></th>\n",
       "      <th></th>\n",
       "      <th></th>\n",
       "      <th></th>\n",
       "      <th></th>\n",
       "      <th></th>\n",
       "      <th></th>\n",
       "      <th></th>\n",
       "      <th></th>\n",
       "      <th></th>\n",
       "      <th></th>\n",
       "      <th></th>\n",
       "      <th></th>\n",
       "    </tr>\n",
       "  </thead>\n",
       "  <tbody>\n",
       "    <tr>\n",
       "      <th>Trousdale</th>\n",
       "      <td>47169</td>\n",
       "      <td>No</td>\n",
       "      <td>265.5</td>\n",
       "      <td>219.0</td>\n",
       "      <td>319.1</td>\n",
       "      <td>24</td>\n",
       "      <td>stable</td>\n",
       "      <td>0.0</td>\n",
       "      <td>-1.3</td>\n",
       "      <td>1.3</td>\n",
       "      <td>...</td>\n",
       "      <td>194</td>\n",
       "      <td>222</td>\n",
       "      <td>254</td>\n",
       "      <td>128</td>\n",
       "      <td>135</td>\n",
       "      <td>146</td>\n",
       "      <td>127</td>\n",
       "      <td>132</td>\n",
       "      <td>129</td>\n",
       "      <td>0</td>\n",
       "    </tr>\n",
       "    <tr>\n",
       "      <th>Scott</th>\n",
       "      <td>47151</td>\n",
       "      <td>No</td>\n",
       "      <td>241.0</td>\n",
       "      <td>214.5</td>\n",
       "      <td>270.0</td>\n",
       "      <td>63</td>\n",
       "      <td>stable</td>\n",
       "      <td>-0.5</td>\n",
       "      <td>-1.1</td>\n",
       "      <td>0.1</td>\n",
       "      <td>...</td>\n",
       "      <td>525</td>\n",
       "      <td>593</td>\n",
       "      <td>698</td>\n",
       "      <td>369</td>\n",
       "      <td>366</td>\n",
       "      <td>373</td>\n",
       "      <td>327</td>\n",
       "      <td>335</td>\n",
       "      <td>356</td>\n",
       "      <td>0</td>\n",
       "    </tr>\n",
       "    <tr>\n",
       "      <th>Cheatham</th>\n",
       "      <td>47021</td>\n",
       "      <td>No</td>\n",
       "      <td>239.6</td>\n",
       "      <td>217.8</td>\n",
       "      <td>263.0</td>\n",
       "      <td>97</td>\n",
       "      <td>stable</td>\n",
       "      <td>-0.6</td>\n",
       "      <td>-1.4</td>\n",
       "      <td>0.3</td>\n",
       "      <td>...</td>\n",
       "      <td>742</td>\n",
       "      <td>904</td>\n",
       "      <td>963</td>\n",
       "      <td>503</td>\n",
       "      <td>530</td>\n",
       "      <td>594</td>\n",
       "      <td>360</td>\n",
       "      <td>395</td>\n",
       "      <td>461</td>\n",
       "      <td>0</td>\n",
       "    </tr>\n",
       "    <tr>\n",
       "      <th>Claiborne</th>\n",
       "      <td>47025</td>\n",
       "      <td>No</td>\n",
       "      <td>237.3</td>\n",
       "      <td>216.4</td>\n",
       "      <td>259.8</td>\n",
       "      <td>100</td>\n",
       "      <td>stable</td>\n",
       "      <td>-0.1</td>\n",
       "      <td>-0.7</td>\n",
       "      <td>0.4</td>\n",
       "      <td>...</td>\n",
       "      <td>943</td>\n",
       "      <td>1060</td>\n",
       "      <td>1124</td>\n",
       "      <td>567</td>\n",
       "      <td>671</td>\n",
       "      <td>740</td>\n",
       "      <td>517</td>\n",
       "      <td>508</td>\n",
       "      <td>529</td>\n",
       "      <td>1</td>\n",
       "    </tr>\n",
       "    <tr>\n",
       "      <th>Hancock</th>\n",
       "      <td>47067</td>\n",
       "      <td>No</td>\n",
       "      <td>236.2</td>\n",
       "      <td>193.1</td>\n",
       "      <td>287.1</td>\n",
       "      <td>22</td>\n",
       "      <td>stable</td>\n",
       "      <td>0.4</td>\n",
       "      <td>-0.8</td>\n",
       "      <td>1.6</td>\n",
       "      <td>...</td>\n",
       "      <td>217</td>\n",
       "      <td>241</td>\n",
       "      <td>233</td>\n",
       "      <td>138</td>\n",
       "      <td>152</td>\n",
       "      <td>161</td>\n",
       "      <td>126</td>\n",
       "      <td>129</td>\n",
       "      <td>122</td>\n",
       "      <td>1</td>\n",
       "    </tr>\n",
       "  </tbody>\n",
       "</table>\n",
       "<p>5 rows × 41 columns</p>\n",
       "</div>"
      ],
      "text/plain": [
       "            fips met_obj  deaths_per_100k  dr_ci_lower  dr_ci_upper  \\\n",
       "county                                                                \n",
       "Trousdale  47169      No            265.5        219.0        319.1   \n",
       "Scott      47151      No            241.0        214.5        270.0   \n",
       "Cheatham   47021      No            239.6        217.8        263.0   \n",
       "Claiborne  47025      No            237.3        216.4        259.8   \n",
       "Hancock    47067      No            236.2        193.1        287.1   \n",
       "\n",
       "           av_ann_count recent_trend  5_year_death_trend  trend_ci_lower  \\\n",
       "county                                                                     \n",
       "Trousdale            24       stable                 0.0            -1.3   \n",
       "Scott                63       stable                -0.5            -1.1   \n",
       "Cheatham             97       stable                -0.6            -1.4   \n",
       "Claiborne           100       stable                -0.1            -0.7   \n",
       "Hancock              22       stable                 0.4            -0.8   \n",
       "\n",
       "           trend_ci_upper      ...        pop2010_75to79  pop2014_75to79  \\\n",
       "county                         ...                                         \n",
       "Trousdale             1.3      ...                   194             222   \n",
       "Scott                 0.1      ...                   525             593   \n",
       "Cheatham              0.3      ...                   742             904   \n",
       "Claiborne             0.4      ...                   943            1060   \n",
       "Hancock               1.6      ...                   217             241   \n",
       "\n",
       "           pop2017_75to79  pop2010_80to84  pop2014_80to84  pop2017_80to84  \\\n",
       "county                                                                      \n",
       "Trousdale             254             128             135             146   \n",
       "Scott                 698             369             366             373   \n",
       "Cheatham              963             503             530             594   \n",
       "Claiborne            1124             567             671             740   \n",
       "Hancock               233             138             152             161   \n",
       "\n",
       "           pop2010_85over  pop2014_85over  pop2017_85over  hospice_count  \n",
       "county                                                                    \n",
       "Trousdale             127             132             129              0  \n",
       "Scott                 327             335             356              0  \n",
       "Cheatham              360             395             461              0  \n",
       "Claiborne             517             508             529              1  \n",
       "Hancock               126             129             122              1  \n",
       "\n",
       "[5 rows x 41 columns]"
      ]
     },
     "execution_count": 218,
     "metadata": {},
     "output_type": "execute_result"
    }
   ],
   "source": [
    "#rename df for convinience going forward\n",
    "pch_df = pop_cancer_hospice_df\n",
    "pch_df.head()"
   ]
  },
  {
   "cell_type": "markdown",
   "metadata": {},
   "source": [
    "# Week 4"
   ]
  },
  {
   "cell_type": "code",
   "execution_count": 219,
   "metadata": {},
   "outputs": [],
   "source": [
    "#import visualization libraries\n",
    "import matplotlib.pyplot as plt\n",
    "import seaborn as sns"
   ]
  },
  {
   "cell_type": "markdown",
   "metadata": {},
   "source": [
    "## null values and average death rates"
   ]
  },
  {
   "cell_type": "code",
   "execution_count": 220,
   "metadata": {},
   "outputs": [
    {
     "data": {
      "text/plain": [
       "0"
      ]
     },
     "execution_count": 220,
     "metadata": {},
     "output_type": "execute_result"
    }
   ],
   "source": [
    "#find if there are null values\n",
    "pch_df.isnull().sum().sum()"
   ]
  },
  {
   "cell_type": "code",
   "execution_count": 221,
   "metadata": {},
   "outputs": [
    {
     "data": {
      "text/plain": [
       "195.8726315789474"
      ]
     },
     "execution_count": 221,
     "metadata": {},
     "output_type": "execute_result"
    }
   ],
   "source": [
    "#average death rate for counties in TN\n",
    "pch_df['deaths_per_100k'].mean()"
   ]
  },
  {
   "cell_type": "markdown",
   "metadata": {},
   "source": [
    "## distribution plots"
   ]
  },
  {
   "cell_type": "code",
   "execution_count": 222,
   "metadata": {},
   "outputs": [
    {
     "name": "stderr",
     "output_type": "stream",
     "text": [
      "C:\\Users\\prael\\Anaconda3\\lib\\site-packages\\scipy\\stats\\stats.py:1713: FutureWarning: Using a non-tuple sequence for multidimensional indexing is deprecated; use `arr[tuple(seq)]` instead of `arr[seq]`. In the future this will be interpreted as an array index, `arr[np.array(seq)]`, which will result either in an error or a different result.\n",
      "  return np.add.reduce(sorted[indexer] * weights, axis=axis) / sumval\n"
     ]
    },
    {
     "data": {
      "image/png": "[encoded data removed]",
      "text/plain": [
       "<Figure size 432x288 with 1 Axes>"
      ]
     },
     "metadata": {},
     "output_type": "display_data"
    }
   ],
   "source": [
    "#distribution for recent 5 year trend\n",
    "sns.distplot(pch_df['5_year_death_trend'])\n",
    "m = pch_df['5_year_death_trend'].mean()\n",
    "plt.axvline(m, linestyle='--', color='red')\n",
    "plt.title('5 year trend disribution')\n",
    "plt.show()"
   ]
  },
  {
   "cell_type": "code",
   "execution_count": 223,
   "metadata": {},
   "outputs": [
    {
     "data": {
      "text/plain": [
       "array(['No', 'Yes'], dtype=object)"
      ]
     },
     "execution_count": 223,
     "metadata": {},
     "output_type": "execute_result"
    }
   ],
   "source": [
    "pch_df['met_obj'].unique()"
   ]
  },
  {
   "cell_type": "code",
   "execution_count": 224,
   "metadata": {},
   "outputs": [
    {
     "name": "stdout",
     "output_type": "stream",
     "text": [
      "all shape: (95, 41)\n",
      "not meeting hp shape: (89, 41)\n",
      "meeting hp shape: (6, 41)\n"
     ]
    }
   ],
   "source": [
    "#distribution of 5 year trends meeting or not meeting healthy people 2020\n",
    "#not_meeting_hp = pch_df.loc[pch_df['deaths_per_100k'] >= 161.4]\n",
    "#meeting_hp = pch_df.loc[pch_df['deaths_per_100k'] < 161.4]\n",
    "\n",
    "not_meeting_hp = pch_df[pch_df['met_obj'] == 'No']\n",
    "meeting_hp = pch_df[pch_df['met_obj'] == 'Yes']\n",
    "\n",
    "print('all shape: ' +  str(pch_df.shape) + '\\n' + 'not meeting hp shape: ' + str(not_meeting_hp.shape) + '\\n' + 'meeting hp shape: ' + str(meeting_hp.shape))"
   ]
  },
  {
   "cell_type": "code",
   "execution_count": 225,
   "metadata": {},
   "outputs": [
    {
     "name": "stderr",
     "output_type": "stream",
     "text": [
      "C:\\Users\\prael\\Anaconda3\\lib\\site-packages\\scipy\\stats\\stats.py:1713: FutureWarning: Using a non-tuple sequence for multidimensional indexing is deprecated; use `arr[tuple(seq)]` instead of `arr[seq]`. In the future this will be interpreted as an array index, `arr[np.array(seq)]`, which will result either in an error or a different result.\n",
      "  return np.add.reduce(sorted[indexer] * weights, axis=axis) / sumval\n"
     ]
    },
    {
     "data": {
      "text/plain": [
       "<matplotlib.legend.Legend at 0x1d4f1d42470>"
      ]
     },
     "execution_count": 225,
     "metadata": {},
     "output_type": "execute_result"
    },
    {
     "data": {
      "image/png": "[encoded data removed]",
      "text/plain": [
       "<Figure size 432x288 with 1 Axes>"
      ]
     },
     "metadata": {},
     "output_type": "display_data"
    }
   ],
   "source": [
    "sns.distplot(not_meeting_hp['5_year_death_trend'], rug=True, hist_kws={\"label\":\"not meeting healthy people 2020\"})\n",
    "sns.distplot(meeting_hp['5_year_death_trend'], rug=True, hist_kws={\"label\":\"meeting healthy people 2020\"})\n",
    "plt.legend()"
   ]
  },
  {
   "cell_type": "code",
   "execution_count": 226,
   "metadata": {},
   "outputs": [
    {
     "data": {
      "text/plain": [
       "county\n",
       "Anderson      180.6\n",
       "Bedford       182.7\n",
       "Benton        233.9\n",
       "Bledsoe       170.0\n",
       "Blount        168.2\n",
       "Bradley       183.0\n",
       "Campbell      219.2\n",
       "Cannon        202.4\n",
       "Carroll       221.8\n",
       "Carter        176.2\n",
       "Cheatham      239.6\n",
       "Chester       178.4\n",
       "Claiborne     237.3\n",
       "Clay          209.1\n",
       "Cocke         222.1\n",
       "Coffee        194.2\n",
       "Crockett      164.1\n",
       "Cumberland    174.4\n",
       "Davidson      184.7\n",
       "DeKalb        178.8\n",
       "Decatur       208.7\n",
       "Dickson       201.1\n",
       "Dyer          182.9\n",
       "Fentress      211.1\n",
       "Franklin      184.1\n",
       "Gibson        202.0\n",
       "Giles         193.7\n",
       "Grainger      222.0\n",
       "Greene        185.6\n",
       "Grundy        210.7\n",
       "              ...  \n",
       "Meigs         214.3\n",
       "Monroe        191.6\n",
       "Montgomery    188.4\n",
       "Morgan        180.7\n",
       "Obion         214.1\n",
       "Overton       217.0\n",
       "Perry         216.0\n",
       "Polk          209.5\n",
       "Putnam        201.5\n",
       "Rhea          194.9\n",
       "Roane         185.2\n",
       "Robertson     187.2\n",
       "Rutherford    170.3\n",
       "Scott         241.0\n",
       "Sequatchie    224.3\n",
       "Sevier        186.7\n",
       "Shelby        195.0\n",
       "Smith         192.2\n",
       "Stewart       218.2\n",
       "Sullivan      181.4\n",
       "Tipton        210.6\n",
       "Trousdale     265.5\n",
       "Unicoi        199.8\n",
       "Union         234.2\n",
       "Warren        200.3\n",
       "Washington    180.5\n",
       "Wayne         207.4\n",
       "Weakley       187.0\n",
       "White         216.3\n",
       "Wilson        170.5\n",
       "Name: deaths_per_100k, Length: 89, dtype: float64"
      ]
     },
     "execution_count": 226,
     "metadata": {},
     "output_type": "execute_result"
    }
   ],
   "source": [
    "not_meeting_hp['deaths_per_100k']\n",
    "df = not_meeting_hp.copy()\n",
    "df.sort_index(inplace=True)\n",
    "df['deaths_per_100k']"
   ]
  },
  {
   "cell_type": "code",
   "execution_count": 227,
   "metadata": {},
   "outputs": [
    {
     "name": "stderr",
     "output_type": "stream",
     "text": [
      "C:\\Users\\prael\\Anaconda3\\lib\\site-packages\\scipy\\stats\\stats.py:1713: FutureWarning: Using a non-tuple sequence for multidimensional indexing is deprecated; use `arr[tuple(seq)]` instead of `arr[seq]`. In the future this will be interpreted as an array index, `arr[np.array(seq)]`, which will result either in an error or a different result.\n",
      "  return np.add.reduce(sorted[indexer] * weights, axis=axis) / sumval\n"
     ]
    },
    {
     "data": {
      "text/plain": [
       "<matplotlib.legend.Legend at 0x1d4f20205c0>"
      ]
     },
     "execution_count": 227,
     "metadata": {},
     "output_type": "execute_result"
    },
    {
     "data": {
      "image/png": "[encoded data removed]",
      "text/plain": [
       "<Figure size 432x288 with 1 Axes>"
      ]
     },
     "metadata": {},
     "output_type": "display_data"
    }
   ],
   "source": [
    "sns.distplot(not_meeting_hp['deaths_per_100k'], kde=False, rug=True, hist_kws={\"label\":\"not meeting healthy people 2020\"})\n",
    "sns.distplot(meeting_hp['deaths_per_100k'], kde=False, rug=True, hist_kws={\"label\":\"meeting healthy people 2020\"})\n",
    "plt.legend()"
   ]
  },
  {
   "cell_type": "markdown",
   "metadata": {},
   "source": [
    "## finding counties with certain values"
   ]
  },
  {
   "cell_type": "code",
   "execution_count": 228,
   "metadata": {},
   "outputs": [
    {
     "data": {
      "text/plain": [
       "county\n",
       "Shelby      5\n",
       "Davidson    8\n",
       "Knox        5\n",
       "Hamilton    5\n",
       "Name: hospice_count, dtype: int64"
      ]
     },
     "execution_count": 228,
     "metadata": {},
     "output_type": "execute_result"
    }
   ],
   "source": [
    "#counties with more than 2 hospice facilities\n",
    "pch_df.loc[pch_df['hospice_count'] > 2, 'hospice_count']"
   ]
  },
  {
   "cell_type": "code",
   "execution_count": 229,
   "metadata": {},
   "outputs": [
    {
     "name": "stderr",
     "output_type": "stream",
     "text": [
      "C:\\Users\\prael\\Anaconda3\\lib\\site-packages\\scipy\\stats\\stats.py:1713: FutureWarning: Using a non-tuple sequence for multidimensional indexing is deprecated; use `arr[tuple(seq)]` instead of `arr[seq]`. In the future this will be interpreted as an array index, `arr[np.array(seq)]`, which will result either in an error or a different result.\n",
      "  return np.add.reduce(sorted[indexer] * weights, axis=axis) / sumval\n"
     ]
    },
    {
     "data": {
      "text/plain": [
       "<matplotlib.axes._subplots.AxesSubplot at 0x1d4f21cc390>"
      ]
     },
     "execution_count": 229,
     "metadata": {},
     "output_type": "execute_result"
    },
    {
     "data": {
      "image/png": "[encoded data removed]",
      "text/plain": [
       "<Figure size 432x288 with 1 Axes>"
      ]
     },
     "metadata": {},
     "output_type": "display_data"
    }
   ],
   "source": [
    "sns.distplot(pch_df['hospice_count'], rug=True)"
   ]
  },
  {
   "cell_type": "code",
   "execution_count": 230,
   "metadata": {},
   "outputs": [
    {
     "data": {
      "text/plain": [
       "county\n",
       "Trousdale    265.5\n",
       "Scott        241.0\n",
       "Cheatham     239.6\n",
       "Claiborne    237.3\n",
       "Hancock      236.2\n",
       "Name: deaths_per_100k, dtype: float64"
      ]
     },
     "execution_count": 230,
     "metadata": {},
     "output_type": "execute_result"
    }
   ],
   "source": [
    "#counties with the highest death rate per 100k people\n",
    "pch_df['deaths_per_100k'].nlargest(5)"
   ]
  },
  {
   "cell_type": "code",
   "execution_count": 231,
   "metadata": {},
   "outputs": [
    {
     "name": "stderr",
     "output_type": "stream",
     "text": [
      "C:\\Users\\prael\\Anaconda3\\lib\\site-packages\\scipy\\stats\\stats.py:1713: FutureWarning: Using a non-tuple sequence for multidimensional indexing is deprecated; use `arr[tuple(seq)]` instead of `arr[seq]`. In the future this will be interpreted as an array index, `arr[np.array(seq)]`, which will result either in an error or a different result.\n",
      "  return np.add.reduce(sorted[indexer] * weights, axis=axis) / sumval\n"
     ]
    },
    {
     "data": {
      "text/plain": [
       "<matplotlib.axes._subplots.AxesSubplot at 0x1d4f1e316d8>"
      ]
     },
     "execution_count": 231,
     "metadata": {},
     "output_type": "execute_result"
    },
    {
     "data": {
      "image/png": "[encoded data removed]",
      "text/plain": [
       "<Figure size 432x288 with 1 Axes>"
      ]
     },
     "metadata": {},
     "output_type": "display_data"
    }
   ],
   "source": [
    "sns.distplot(pch_df['deaths_per_100k'], rug=True)"
   ]
  },
  {
   "cell_type": "markdown",
   "metadata": {},
   "source": [
    "## new feature creation"
   ]
  },
  {
   "cell_type": "code",
   "execution_count": 232,
   "metadata": {},
   "outputs": [],
   "source": [
    "def find_percent_over_fifty(dataframe, regex_over_fifty, total_pop_col):\n",
    "    '''\n",
    "    finds the over 50 people per county in the passed df by the passed regexes\n",
    "    \n",
    "    implements regex across columns\n",
    "    \n",
    "    divides over fifty sum per county by total and calculates % over 50\n",
    "    '''\n",
    "    \n",
    "    #find columns and sum\n",
    "    pop_subset = dataframe.columns[dataframe.columns.str.contains(regex_over_fifty)]\n",
    "    pop_sum_per_county = pch_df.loc[:,pop_subset].sum(axis=1)\n",
    "    \n",
    "    #divide and return\n",
    "    percent_over_fifty = (pop_sum_per_county / dataframe[total_pop_col]) * 100\n",
    "    \n",
    "    return percent_over_fifty"
   ]
  },
  {
   "cell_type": "code",
   "execution_count": 233,
   "metadata": {},
   "outputs": [
    {
     "data": {
      "text/html": [
       "<div>\n",
       "<style scoped>\n",
       "    .dataframe tbody tr th:only-of-type {\n",
       "        vertical-align: middle;\n",
       "    }\n",
       "\n",
       "    .dataframe tbody tr th {\n",
       "        vertical-align: top;\n",
       "    }\n",
       "\n",
       "    .dataframe thead th {\n",
       "        text-align: right;\n",
       "    }\n",
       "</style>\n",
       "<table border=\"1\" class=\"dataframe\">\n",
       "  <thead>\n",
       "    <tr style=\"text-align: right;\">\n",
       "      <th></th>\n",
       "      <th>pop2010all</th>\n",
       "      <th>pop2014all</th>\n",
       "      <th>pop2017all</th>\n",
       "      <th>percent_pop_over_50_2010</th>\n",
       "      <th>percent_pop_over_50_2014</th>\n",
       "      <th>percent_pop_over_50_2017</th>\n",
       "    </tr>\n",
       "    <tr>\n",
       "      <th>county</th>\n",
       "      <th></th>\n",
       "      <th></th>\n",
       "      <th></th>\n",
       "      <th></th>\n",
       "      <th></th>\n",
       "      <th></th>\n",
       "    </tr>\n",
       "  </thead>\n",
       "  <tbody>\n",
       "    <tr>\n",
       "      <th>Trousdale</th>\n",
       "      <td>7874</td>\n",
       "      <td>7993</td>\n",
       "      <td>10083</td>\n",
       "      <td>34.950470</td>\n",
       "      <td>37.257600</td>\n",
       "      <td>31.677080</td>\n",
       "    </tr>\n",
       "    <tr>\n",
       "      <th>Scott</th>\n",
       "      <td>22227</td>\n",
       "      <td>21986</td>\n",
       "      <td>21989</td>\n",
       "      <td>32.977910</td>\n",
       "      <td>35.149641</td>\n",
       "      <td>36.349993</td>\n",
       "    </tr>\n",
       "    <tr>\n",
       "      <th>Cheatham</th>\n",
       "      <td>39122</td>\n",
       "      <td>39604</td>\n",
       "      <td>40330</td>\n",
       "      <td>32.327079</td>\n",
       "      <td>35.604989</td>\n",
       "      <td>37.302256</td>\n",
       "    </tr>\n",
       "    <tr>\n",
       "      <th>Claiborne</th>\n",
       "      <td>32216</td>\n",
       "      <td>31529</td>\n",
       "      <td>31609</td>\n",
       "      <td>37.602434</td>\n",
       "      <td>39.858543</td>\n",
       "      <td>41.019963</td>\n",
       "    </tr>\n",
       "    <tr>\n",
       "      <th>Hancock</th>\n",
       "      <td>6802</td>\n",
       "      <td>6624</td>\n",
       "      <td>6600</td>\n",
       "      <td>40.002940</td>\n",
       "      <td>41.817633</td>\n",
       "      <td>43.196970</td>\n",
       "    </tr>\n",
       "  </tbody>\n",
       "</table>\n",
       "</div>"
      ],
      "text/plain": [
       "           pop2010all  pop2014all  pop2017all  percent_pop_over_50_2010  \\\n",
       "county                                                                    \n",
       "Trousdale        7874        7993       10083                 34.950470   \n",
       "Scott           22227       21986       21989                 32.977910   \n",
       "Cheatham        39122       39604       40330                 32.327079   \n",
       "Claiborne       32216       31529       31609                 37.602434   \n",
       "Hancock          6802        6624        6600                 40.002940   \n",
       "\n",
       "           percent_pop_over_50_2014  percent_pop_over_50_2017  \n",
       "county                                                         \n",
       "Trousdale                 37.257600                 31.677080  \n",
       "Scott                     35.149641                 36.349993  \n",
       "Cheatham                  35.604989                 37.302256  \n",
       "Claiborne                 39.858543                 41.019963  \n",
       "Hancock                   41.817633                 43.196970  "
      ]
     },
     "execution_count": 233,
     "metadata": {},
     "output_type": "execute_result"
    }
   ],
   "source": [
    "#make new df to house percent data without pop over 50 data (i.e. delete rows we won't need again)\n",
    "pch_pcts = pch_df.copy()\n",
    "pch_pcts = pch_pcts.loc[:,~pch_pcts.columns.str.contains('pop201\\d_')]\n",
    "\n",
    "#add over fifty percentages\n",
    "pch_pcts['percent_pop_over_50_2010'] = find_percent_over_fifty(pch_df, 'pop2010_', 'pop2010all')\n",
    "pch_pcts['percent_pop_over_50_2014'] = find_percent_over_fifty(pch_df, 'pop2014_', 'pop2014all')\n",
    "pch_pcts['percent_pop_over_50_2017'] = find_percent_over_fifty(pch_df, 'pop2017_', 'pop2017all')\n",
    "pch_pcts[['pop2010all', 'pop2014all', 'pop2017all', 'percent_pop_over_50_2010',  'percent_pop_over_50_2014', 'percent_pop_over_50_2017']].head()"
   ]
  },
  {
   "cell_type": "code",
   "execution_count": 234,
   "metadata": {},
   "outputs": [
    {
     "data": {
      "text/plain": [
       "array(['Cumberland', 'Pickett'], dtype=object)"
      ]
     },
     "execution_count": 234,
     "metadata": {},
     "output_type": "execute_result"
    }
   ],
   "source": [
    "#2017 counties with a pop over fifty greater than half\n",
    "pch_pcts[pch_pcts['percent_pop_over_50_2017'] > 50].index.values"
   ]
  },
  {
   "cell_type": "code",
   "execution_count": 235,
   "metadata": {},
   "outputs": [
    {
     "data": {
      "text/plain": [
       "county\n",
       "Trousdale     31.677080\n",
       "Shelby        31.978172\n",
       "Montgomery    23.904247\n",
       "Davidson      29.353209\n",
       "Rutherford    27.063883\n",
       "Williamson    33.009365\n",
       "Name: percent_pop_over_50_2017, dtype: float64"
      ]
     },
     "execution_count": 235,
     "metadata": {},
     "output_type": "execute_result"
    }
   ],
   "source": [
    "#2017 counties with less than one-third over 50\n",
    "pch_pcts.loc[pch_pcts['percent_pop_over_50_2017'] < ((1/3)*100)]['percent_pop_over_50_2017']"
   ]
  },
  {
   "cell_type": "code",
   "execution_count": 236,
   "metadata": {},
   "outputs": [
    {
     "name": "stderr",
     "output_type": "stream",
     "text": [
      "C:\\Users\\prael\\Anaconda3\\lib\\site-packages\\scipy\\stats\\stats.py:1713: FutureWarning: Using a non-tuple sequence for multidimensional indexing is deprecated; use `arr[tuple(seq)]` instead of `arr[seq]`. In the future this will be interpreted as an array index, `arr[np.array(seq)]`, which will result either in an error or a different result.\n",
      "  return np.add.reduce(sorted[indexer] * weights, axis=axis) / sumval\n"
     ]
    },
    {
     "data": {
      "image/png": "[encoded data removed]",
      "text/plain": [
       "<Figure size 432x288 with 1 Axes>"
      ]
     },
     "metadata": {},
     "output_type": "display_data"
    }
   ],
   "source": [
    "#scatter plot between cancer deaths and % pop over 50 in 2017\n",
    "sns.regplot(x='percent_pop_over_50_2017', y = 'deaths_per_100k', data=pch_pcts)\n",
    "plt.title('percent pop over 50 vs. cancer deaths per 100k people')\n",
    "plt.show()\n",
    "plt.close()"
   ]
  },
  {
   "cell_type": "code",
   "execution_count": 237,
   "metadata": {},
   "outputs": [
    {
     "data": {
      "text/html": [
       "<div>\n",
       "<style scoped>\n",
       "    .dataframe tbody tr th:only-of-type {\n",
       "        vertical-align: middle;\n",
       "    }\n",
       "\n",
       "    .dataframe tbody tr th {\n",
       "        vertical-align: top;\n",
       "    }\n",
       "\n",
       "    .dataframe thead th {\n",
       "        text-align: right;\n",
       "    }\n",
       "</style>\n",
       "<table border=\"1\" class=\"dataframe\">\n",
       "  <thead>\n",
       "    <tr style=\"text-align: right;\">\n",
       "      <th></th>\n",
       "      <th>pop2017all</th>\n",
       "      <th>hospice_count</th>\n",
       "      <th>normalized_hospice_rate</th>\n",
       "    </tr>\n",
       "    <tr>\n",
       "      <th>county</th>\n",
       "      <th></th>\n",
       "      <th></th>\n",
       "      <th></th>\n",
       "    </tr>\n",
       "  </thead>\n",
       "  <tbody>\n",
       "    <tr>\n",
       "      <th>Trousdale</th>\n",
       "      <td>10083</td>\n",
       "      <td>0</td>\n",
       "      <td>0.000000</td>\n",
       "    </tr>\n",
       "    <tr>\n",
       "      <th>Scott</th>\n",
       "      <td>21989</td>\n",
       "      <td>0</td>\n",
       "      <td>0.000000</td>\n",
       "    </tr>\n",
       "    <tr>\n",
       "      <th>Cheatham</th>\n",
       "      <td>40330</td>\n",
       "      <td>0</td>\n",
       "      <td>0.000000</td>\n",
       "    </tr>\n",
       "    <tr>\n",
       "      <th>Claiborne</th>\n",
       "      <td>31609</td>\n",
       "      <td>1</td>\n",
       "      <td>3.163656</td>\n",
       "    </tr>\n",
       "    <tr>\n",
       "      <th>Hancock</th>\n",
       "      <td>6600</td>\n",
       "      <td>1</td>\n",
       "      <td>15.151515</td>\n",
       "    </tr>\n",
       "  </tbody>\n",
       "</table>\n",
       "</div>"
      ],
      "text/plain": [
       "           pop2017all  hospice_count  normalized_hospice_rate\n",
       "county                                                       \n",
       "Trousdale       10083              0                 0.000000\n",
       "Scott           21989              0                 0.000000\n",
       "Cheatham        40330              0                 0.000000\n",
       "Claiborne       31609              1                 3.163656\n",
       "Hancock          6600              1                15.151515"
      ]
     },
     "execution_count": 237,
     "metadata": {},
     "output_type": "execute_result"
    }
   ],
   "source": [
    "#normalized hospice rate feature\n",
    "pch_pcts['normalized_hospice_rate'] = (pch_pcts['hospice_count'] / pch_pcts['pop2017all']) * 100000\n",
    "pch_pcts[['pop2017all','hospice_count', 'normalized_hospice_rate']].head()"
   ]
  },
  {
   "cell_type": "code",
   "execution_count": 238,
   "metadata": {},
   "outputs": [
    {
     "name": "stderr",
     "output_type": "stream",
     "text": [
      "C:\\Users\\prael\\Anaconda3\\lib\\site-packages\\scipy\\stats\\stats.py:1713: FutureWarning: Using a non-tuple sequence for multidimensional indexing is deprecated; use `arr[tuple(seq)]` instead of `arr[seq]`. In the future this will be interpreted as an array index, `arr[np.array(seq)]`, which will result either in an error or a different result.\n",
      "  return np.add.reduce(sorted[indexer] * weights, axis=axis) / sumval\n"
     ]
    },
    {
     "data": {
      "image/png": "[encoded data removed]",
      "text/plain": [
       "<Figure size 432x288 with 1 Axes>"
      ]
     },
     "metadata": {},
     "output_type": "display_data"
    }
   ],
   "source": [
    "#plotting hospice vs. pop over 50 percentage\n",
    "sns.regplot(x='percent_pop_over_50_2017', y = 'normalized_hospice_rate', data=pch_pcts)\n",
    "plt.title('percent pop over 50 vs. hospice rate')\n",
    "plt.show()\n",
    "plt.close()"
   ]
  },
  {
   "cell_type": "code",
   "execution_count": 239,
   "metadata": {},
   "outputs": [
    {
     "data": {
      "image/png": "[encoded data removed]",
      "text/plain": [
       "<Figure size 432x288 with 1 Axes>"
      ]
     },
     "metadata": {},
     "output_type": "display_data"
    }
   ],
   "source": [
    "#boxplot of hospice rate by healthy people goals\n",
    "sns.boxplot(x='met_obj',y='normalized_hospice_rate', data=pch_pcts)\n",
    "plt.title('normalized hospice rate grouped by healthy people goals')\n",
    "plt.show()\n",
    "plt.close()"
   ]
  }
 ],
 "metadata": {
  "kernelspec": {
   "display_name": "Python 3",
   "language": "python",
   "name": "python3"
  },
  "language_info": {
   "codemirror_mode": {
    "name": "ipython",
    "version": 3
   },
   "file_extension": ".py",
   "mimetype": "text/x-python",
   "name": "python",
   "nbconvert_exporter": "python",
   "pygments_lexer": "ipython3",
   "version": "3.6.6"
  }
 },
 "nbformat": 4,
 "nbformat_minor": 2
}
